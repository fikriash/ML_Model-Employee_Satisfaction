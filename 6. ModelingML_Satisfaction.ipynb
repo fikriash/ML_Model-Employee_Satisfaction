{
 "cells": [
  {
   "cell_type": "markdown",
   "metadata": {},
   "source": [
    "## ----------------------- Satisfication Index of Employee for Work Evaluation -----------------------"
   ]
  },
  {
   "cell_type": "markdown",
   "metadata": {},
   "source": [
    "# Definition, Problems, Goals, Limitasi Model"
   ]
  },
  {
   "cell_type": "markdown",
   "metadata": {},
   "source": [
    "------------------------------------------------------------------------------------------------------------------------------------------------------"
   ]
  },
  {
   "cell_type": "markdown",
   "metadata": {},
   "source": [
    "### Definition"
   ]
  },
  {
   "cell_type": "markdown",
   "metadata": {},
   "source": [
    "This Machine Learning is a model for determining the employee satisfaction index at work that can be used by companies to evaluate employee performance. So, it can be used further as a tool to select employees for promotion or attrition."
   ]
  },
  {
   "cell_type": "markdown",
   "metadata": {},
   "source": [
    "### Problems & Goals"
   ]
  },
  {
   "cell_type": "markdown",
   "metadata": {},
   "source": [
    "2.1 Problems\n",
    "- August 2020, Covid cases in Indonesia are still increasing (national.kompas.com). One of the effects of this covid is the reduction in the number of employees working in a company. Lots of companies lay off employees to stabilize their finances. However, when carrying out layoffs, it will be very disadvantage to the company if they fire quality employees. Therefore, this machine model will be very helpful to be used as an employee evaluation while working in a company\n",
    "\n",
    "- According to Maier (2000: 116), the factors that affect termination of employment are:\n",
    "  1. Age\n",
    "  2. Length of Work\n",
    "  3. Satisfaction\n",
    "  4. Company Culture\n",
    "  Based on the factors mentioned above, it is very important to know the Employee Job Satisfaction Index\n",
    "\n",
    "2.2 Goals\n",
    "- Knowing what variables can affect the employee job satisfaction index.\n",
    "- Creating a model that can determine the employee job satisfaction index at work that can be used as a job evaluation material.\n",
    "\n",
    "2.3 Limitation\n",
    "- This model is only a tool to determine the employee satisfaction index in percentage levels, but it can be developed further to detect employee churn / no churn.\n",
    "- This model can be used for various companies as a consideration in terminating or promoting employee positions."
   ]
  },
  {
   "cell_type": "markdown",
   "metadata": {},
   "source": [
    "# Import Package"
   ]
  },
  {
   "cell_type": "code",
   "execution_count": 11,
   "metadata": {},
   "outputs": [],
   "source": [
    "import pandas as pd\n",
    "import numpy as np\n",
    "import seaborn as sns\n",
    "import matplotlib.pyplot as plt\n",
    "import pickle\n",
    "import joblib\n",
    "import warnings\n",
    "import statsmodels.api as sm\n",
    "warnings.filterwarnings('ignore')\n",
    "pd.options.display.max_columns=999\n",
    "\n",
    "%matplotlib inline\n",
    "\n",
    "from sklearn.linear_model import LogisticRegression, Lasso, Ridge, ElasticNet\n",
    "from sklearn.linear_model import LogisticRegression\n",
    "from sklearn.neighbors import KNeighborsClassifier, KNeighborsRegressor\n",
    "from xgboost import XGBClassifier, XGBRegressor\n",
    "from sklearn.ensemble import RandomForestClassifier\n",
    "from sklearn.tree import DecisionTreeClassifier\n",
    "from sklearn.preprocessing import RobustScaler, MinMaxScaler, power_transform, StandardScaler\n",
    "from imblearn.over_sampling import SMOTE\n",
    "from sklearn.utils import resample\n",
    "from sklearn.decomposition import PCA\n",
    "from sklearn.metrics import accuracy_score, balanced_accuracy_score, f1_score, recall_score, precision_score\n",
    "from sklearn.metrics import classification_report, confusion_matrix, log_loss, roc_auc_score, roc_curve, auc\n",
    "from sklearn.model_selection import train_test_split, GridSearchCV, RandomizedSearchCV\n"
   ]
  },
  {
   "cell_type": "markdown",
   "metadata": {},
   "source": [
    "# Import Data"
   ]
  },
  {
   "cell_type": "markdown",
   "metadata": {},
   "source": [
    "------------------------------------------------------------------------------------------------------------------------------------------------------"
   ]
  },
  {
   "cell_type": "code",
   "execution_count": 122,
   "metadata": {},
   "outputs": [],
   "source": [
    "df_base = pd.read_csv('dfbase.csv', index_col=1)\n",
    "dft3 = pd.read_csv('dft3.csv')"
   ]
  },
  {
   "cell_type": "code",
   "execution_count": 123,
   "metadata": {},
   "outputs": [
    {
     "data": {
      "text/html": [
       "<div>\n",
       "<style scoped>\n",
       "    .dataframe tbody tr th:only-of-type {\n",
       "        vertical-align: middle;\n",
       "    }\n",
       "\n",
       "    .dataframe tbody tr th {\n",
       "        vertical-align: top;\n",
       "    }\n",
       "\n",
       "    .dataframe thead th {\n",
       "        text-align: right;\n",
       "    }\n",
       "</style>\n",
       "<table border=\"1\" class=\"dataframe\">\n",
       "  <thead>\n",
       "    <tr style=\"text-align: right;\">\n",
       "      <th></th>\n",
       "      <th>Unnamed: 0</th>\n",
       "      <th>age</th>\n",
       "      <th>Dept_enc</th>\n",
       "      <th>loc_enc</th>\n",
       "      <th>edu_enc</th>\n",
       "      <th>recruitmen_enc</th>\n",
       "      <th>job_level</th>\n",
       "      <th>rating</th>\n",
       "      <th>onsite</th>\n",
       "      <th>awards</th>\n",
       "      <th>certifications</th>\n",
       "      <th>salary</th>\n",
       "      <th>satisfied</th>\n",
       "    </tr>\n",
       "    <tr>\n",
       "      <th>empl_no</th>\n",
       "      <th></th>\n",
       "      <th></th>\n",
       "      <th></th>\n",
       "      <th></th>\n",
       "      <th></th>\n",
       "      <th></th>\n",
       "      <th></th>\n",
       "      <th></th>\n",
       "      <th></th>\n",
       "      <th></th>\n",
       "      <th></th>\n",
       "      <th></th>\n",
       "      <th></th>\n",
       "    </tr>\n",
       "  </thead>\n",
       "  <tbody>\n",
       "    <tr>\n",
       "      <th>0</th>\n",
       "      <td>0</td>\n",
       "      <td>28</td>\n",
       "      <td>0</td>\n",
       "      <td>0</td>\n",
       "      <td>1</td>\n",
       "      <td>0</td>\n",
       "      <td>5</td>\n",
       "      <td>2</td>\n",
       "      <td>0</td>\n",
       "      <td>1</td>\n",
       "      <td>0</td>\n",
       "      <td>86750</td>\n",
       "      <td>1</td>\n",
       "    </tr>\n",
       "    <tr>\n",
       "      <th>1</th>\n",
       "      <td>1</td>\n",
       "      <td>50</td>\n",
       "      <td>1</td>\n",
       "      <td>0</td>\n",
       "      <td>1</td>\n",
       "      <td>1</td>\n",
       "      <td>3</td>\n",
       "      <td>5</td>\n",
       "      <td>1</td>\n",
       "      <td>2</td>\n",
       "      <td>1</td>\n",
       "      <td>42419</td>\n",
       "      <td>0</td>\n",
       "    </tr>\n",
       "    <tr>\n",
       "      <th>2</th>\n",
       "      <td>2</td>\n",
       "      <td>43</td>\n",
       "      <td>1</td>\n",
       "      <td>0</td>\n",
       "      <td>0</td>\n",
       "      <td>0</td>\n",
       "      <td>4</td>\n",
       "      <td>1</td>\n",
       "      <td>0</td>\n",
       "      <td>2</td>\n",
       "      <td>0</td>\n",
       "      <td>65715</td>\n",
       "      <td>0</td>\n",
       "    </tr>\n",
       "    <tr>\n",
       "      <th>3</th>\n",
       "      <td>3</td>\n",
       "      <td>44</td>\n",
       "      <td>2</td>\n",
       "      <td>1</td>\n",
       "      <td>1</td>\n",
       "      <td>2</td>\n",
       "      <td>2</td>\n",
       "      <td>3</td>\n",
       "      <td>1</td>\n",
       "      <td>0</td>\n",
       "      <td>0</td>\n",
       "      <td>29805</td>\n",
       "      <td>1</td>\n",
       "    </tr>\n",
       "    <tr>\n",
       "      <th>4</th>\n",
       "      <td>4</td>\n",
       "      <td>33</td>\n",
       "      <td>0</td>\n",
       "      <td>1</td>\n",
       "      <td>0</td>\n",
       "      <td>3</td>\n",
       "      <td>2</td>\n",
       "      <td>1</td>\n",
       "      <td>0</td>\n",
       "      <td>5</td>\n",
       "      <td>0</td>\n",
       "      <td>29805</td>\n",
       "      <td>1</td>\n",
       "    </tr>\n",
       "  </tbody>\n",
       "</table>\n",
       "</div>"
      ],
      "text/plain": [
       "         Unnamed: 0  age  Dept_enc  loc_enc  edu_enc  recruitmen_enc  \\\n",
       "empl_no                                                                \n",
       "0                 0   28         0        0        1               0   \n",
       "1                 1   50         1        0        1               1   \n",
       "2                 2   43         1        0        0               0   \n",
       "3                 3   44         2        1        1               2   \n",
       "4                 4   33         0        1        0               3   \n",
       "\n",
       "         job_level  rating  onsite  awards  certifications  salary  satisfied  \n",
       "empl_no                                                                        \n",
       "0                5       2       0       1               0   86750          1  \n",
       "1                3       5       1       2               1   42419          0  \n",
       "2                4       1       0       2               0   65715          0  \n",
       "3                2       3       1       0               0   29805          1  \n",
       "4                2       1       0       5               0   29805          1  "
      ]
     },
     "execution_count": 123,
     "metadata": {},
     "output_type": "execute_result"
    }
   ],
   "source": [
    "df_base.head()"
   ]
  },
  {
   "cell_type": "code",
   "execution_count": 124,
   "metadata": {},
   "outputs": [
    {
     "data": {
      "text/html": [
       "<div>\n",
       "<style scoped>\n",
       "    .dataframe tbody tr th:only-of-type {\n",
       "        vertical-align: middle;\n",
       "    }\n",
       "\n",
       "    .dataframe tbody tr th {\n",
       "        vertical-align: top;\n",
       "    }\n",
       "\n",
       "    .dataframe thead th {\n",
       "        text-align: right;\n",
       "    }\n",
       "</style>\n",
       "<table border=\"1\" class=\"dataframe\">\n",
       "  <thead>\n",
       "    <tr style=\"text-align: right;\">\n",
       "      <th></th>\n",
       "      <th>empl_no</th>\n",
       "      <th>age</th>\n",
       "      <th>Dept_enc</th>\n",
       "      <th>loc_enc</th>\n",
       "      <th>edu_enc</th>\n",
       "      <th>recruitmen_enc</th>\n",
       "      <th>job_level_1</th>\n",
       "      <th>job_level_2</th>\n",
       "      <th>job_level_3</th>\n",
       "      <th>job_level_4</th>\n",
       "      <th>job_level_5</th>\n",
       "      <th>rating_1</th>\n",
       "      <th>rating_2</th>\n",
       "      <th>rating_3</th>\n",
       "      <th>rating_4</th>\n",
       "      <th>rating_5</th>\n",
       "      <th>onsite</th>\n",
       "      <th>awards</th>\n",
       "      <th>certifications</th>\n",
       "      <th>salary</th>\n",
       "      <th>satisfied</th>\n",
       "    </tr>\n",
       "  </thead>\n",
       "  <tbody>\n",
       "    <tr>\n",
       "      <th>0</th>\n",
       "      <td>0</td>\n",
       "      <td>28</td>\n",
       "      <td>0</td>\n",
       "      <td>0</td>\n",
       "      <td>1</td>\n",
       "      <td>0</td>\n",
       "      <td>0</td>\n",
       "      <td>0</td>\n",
       "      <td>0</td>\n",
       "      <td>0</td>\n",
       "      <td>1</td>\n",
       "      <td>0</td>\n",
       "      <td>1</td>\n",
       "      <td>0</td>\n",
       "      <td>0</td>\n",
       "      <td>0</td>\n",
       "      <td>0</td>\n",
       "      <td>1</td>\n",
       "      <td>0</td>\n",
       "      <td>86750</td>\n",
       "      <td>1</td>\n",
       "    </tr>\n",
       "    <tr>\n",
       "      <th>1</th>\n",
       "      <td>1</td>\n",
       "      <td>50</td>\n",
       "      <td>1</td>\n",
       "      <td>0</td>\n",
       "      <td>1</td>\n",
       "      <td>1</td>\n",
       "      <td>0</td>\n",
       "      <td>0</td>\n",
       "      <td>1</td>\n",
       "      <td>0</td>\n",
       "      <td>0</td>\n",
       "      <td>0</td>\n",
       "      <td>0</td>\n",
       "      <td>0</td>\n",
       "      <td>0</td>\n",
       "      <td>1</td>\n",
       "      <td>1</td>\n",
       "      <td>2</td>\n",
       "      <td>1</td>\n",
       "      <td>42419</td>\n",
       "      <td>0</td>\n",
       "    </tr>\n",
       "    <tr>\n",
       "      <th>2</th>\n",
       "      <td>2</td>\n",
       "      <td>43</td>\n",
       "      <td>1</td>\n",
       "      <td>0</td>\n",
       "      <td>0</td>\n",
       "      <td>0</td>\n",
       "      <td>0</td>\n",
       "      <td>0</td>\n",
       "      <td>0</td>\n",
       "      <td>1</td>\n",
       "      <td>0</td>\n",
       "      <td>1</td>\n",
       "      <td>0</td>\n",
       "      <td>0</td>\n",
       "      <td>0</td>\n",
       "      <td>0</td>\n",
       "      <td>0</td>\n",
       "      <td>2</td>\n",
       "      <td>0</td>\n",
       "      <td>65715</td>\n",
       "      <td>0</td>\n",
       "    </tr>\n",
       "    <tr>\n",
       "      <th>3</th>\n",
       "      <td>3</td>\n",
       "      <td>44</td>\n",
       "      <td>2</td>\n",
       "      <td>1</td>\n",
       "      <td>1</td>\n",
       "      <td>2</td>\n",
       "      <td>0</td>\n",
       "      <td>1</td>\n",
       "      <td>0</td>\n",
       "      <td>0</td>\n",
       "      <td>0</td>\n",
       "      <td>0</td>\n",
       "      <td>0</td>\n",
       "      <td>1</td>\n",
       "      <td>0</td>\n",
       "      <td>0</td>\n",
       "      <td>1</td>\n",
       "      <td>0</td>\n",
       "      <td>0</td>\n",
       "      <td>29805</td>\n",
       "      <td>1</td>\n",
       "    </tr>\n",
       "    <tr>\n",
       "      <th>4</th>\n",
       "      <td>4</td>\n",
       "      <td>33</td>\n",
       "      <td>0</td>\n",
       "      <td>1</td>\n",
       "      <td>0</td>\n",
       "      <td>3</td>\n",
       "      <td>0</td>\n",
       "      <td>1</td>\n",
       "      <td>0</td>\n",
       "      <td>0</td>\n",
       "      <td>0</td>\n",
       "      <td>1</td>\n",
       "      <td>0</td>\n",
       "      <td>0</td>\n",
       "      <td>0</td>\n",
       "      <td>0</td>\n",
       "      <td>0</td>\n",
       "      <td>5</td>\n",
       "      <td>0</td>\n",
       "      <td>29805</td>\n",
       "      <td>1</td>\n",
       "    </tr>\n",
       "  </tbody>\n",
       "</table>\n",
       "</div>"
      ],
      "text/plain": [
       "   empl_no  age  Dept_enc  loc_enc  edu_enc  recruitmen_enc  job_level_1  \\\n",
       "0        0   28         0        0        1               0            0   \n",
       "1        1   50         1        0        1               1            0   \n",
       "2        2   43         1        0        0               0            0   \n",
       "3        3   44         2        1        1               2            0   \n",
       "4        4   33         0        1        0               3            0   \n",
       "\n",
       "   job_level_2  job_level_3  job_level_4  job_level_5  rating_1  rating_2  \\\n",
       "0            0            0            0            1         0         1   \n",
       "1            0            1            0            0         0         0   \n",
       "2            0            0            1            0         1         0   \n",
       "3            1            0            0            0         0         0   \n",
       "4            1            0            0            0         1         0   \n",
       "\n",
       "   rating_3  rating_4  rating_5  onsite  awards  certifications  salary  \\\n",
       "0         0         0         0       0       1               0   86750   \n",
       "1         0         0         1       1       2               1   42419   \n",
       "2         0         0         0       0       2               0   65715   \n",
       "3         1         0         0       1       0               0   29805   \n",
       "4         0         0         0       0       5               0   29805   \n",
       "\n",
       "   satisfied  \n",
       "0          1  \n",
       "1          0  \n",
       "2          0  \n",
       "3          1  \n",
       "4          1  "
      ]
     },
     "execution_count": 124,
     "metadata": {},
     "output_type": "execute_result"
    }
   ],
   "source": [
    "dft3.head()"
   ]
  },
  {
   "cell_type": "markdown",
   "metadata": {},
   "source": [
    "------------------------------------------------------------------------------------------------------------------------------------------------------"
   ]
  },
  {
   "cell_type": "markdown",
   "metadata": {},
   "source": [
    "# Splitting"
   ]
  },
  {
   "cell_type": "markdown",
   "metadata": {},
   "source": [
    "### Base"
   ]
  },
  {
   "cell_type": "code",
   "execution_count": 125,
   "metadata": {},
   "outputs": [],
   "source": [
    "X = df_base.drop(columns='satisfied')\n",
    "y = df_base.satisfied"
   ]
  },
  {
   "cell_type": "code",
   "execution_count": 126,
   "metadata": {},
   "outputs": [],
   "source": [
    "X_train, X_test, y_train, y_test = train_test_split(X, y, stratify = y, test_size = .2, random_state=42)"
   ]
  },
  {
   "cell_type": "code",
   "execution_count": 127,
   "metadata": {},
   "outputs": [
    {
     "data": {
      "text/plain": [
       "(400, 12)"
      ]
     },
     "execution_count": 127,
     "metadata": {},
     "output_type": "execute_result"
    }
   ],
   "source": [
    "X_train.shape"
   ]
  },
  {
   "cell_type": "code",
   "execution_count": 128,
   "metadata": {},
   "outputs": [
    {
     "data": {
      "text/plain": [
       "(100, 12)"
      ]
     },
     "execution_count": 128,
     "metadata": {},
     "output_type": "execute_result"
    }
   ],
   "source": [
    "X_test.shape"
   ]
  },
  {
   "cell_type": "markdown",
   "metadata": {},
   "source": [
    "### dft3 (df_base w get_dummies)"
   ]
  },
  {
   "cell_type": "code",
   "execution_count": 129,
   "metadata": {},
   "outputs": [],
   "source": [
    "X3 = dft3.drop(columns='satisfied')\n",
    "y3 = dft3.satisfied"
   ]
  },
  {
   "cell_type": "code",
   "execution_count": 130,
   "metadata": {},
   "outputs": [],
   "source": [
    "X3_train, X3_test, y3_train, y3_test = train_test_split(X3, y3, stratify = y3, test_size = .2, random_state=42)"
   ]
  },
  {
   "cell_type": "code",
   "execution_count": 131,
   "metadata": {},
   "outputs": [
    {
     "data": {
      "text/plain": [
       "(398, 20)"
      ]
     },
     "execution_count": 131,
     "metadata": {},
     "output_type": "execute_result"
    }
   ],
   "source": [
    "X3_train.shape"
   ]
  },
  {
   "cell_type": "code",
   "execution_count": 132,
   "metadata": {},
   "outputs": [
    {
     "data": {
      "text/plain": [
       "(100, 20)"
      ]
     },
     "execution_count": 132,
     "metadata": {},
     "output_type": "execute_result"
    }
   ],
   "source": [
    "X3_test.shape"
   ]
  },
  {
   "cell_type": "markdown",
   "metadata": {},
   "source": [
    "------------------------------------------------------------------------------------------------------------------------------------------------------"
   ]
  },
  {
   "cell_type": "markdown",
   "metadata": {},
   "source": [
    "# Modeling"
   ]
  },
  {
   "cell_type": "markdown",
   "metadata": {},
   "source": [
    "- In using algorithms to create models, **many classification reports, confusion matrix, accuracy score and roc_auc_score will be generated**. Therefore it will be explained first here, so that it can be applied to any classification report reading, confusion matrix, and accuracy and roc_auc_score.\n",
    "\n",
    "![ini image](https://i.ibb.co/jWc7mtX/Confusion-matrix.png)\n",
    "\n",
    "### Classification Report Explanation\n",
    "1. recall 0 (negative recall) => is the number of correct predictions in the negative class (TN) compared to the total number of actual negatives (TN + FP)\n",
    "2. recall 1 (positive recall) => is the number of correct predictions in the positive class (TP) compared to the total number of actual positives (TP + FN)\n",
    "3. precision 0 (negative precision) => is the number of correct predictions in the negative class (TN) compared to the total number of negative guesses (TN + FN)\n",
    "4. precision 1 (positive precision) => is the number of correct predictions in the positive class (TP) compared to the total number of positive guesses (TP + FP)\n",
    "5. Accuracy => all correct guesses compared to all data\n",
    "\n",
    "- Because the dataset used has a balanced target, accuracy can also be considered as a determinant of the accuracy of the model\n",
    "- The focus of the model is to obtain the highest possible positive recall and accuracy, so that false negatives can be avoided.\n",
    "- The reason why False Negatives should be avoided, is because:\n",
    "  - actual employees **NOT SATISFIED (0)** predictable **SATISFIED**, the company only loses in salary.\n",
    "  - Whereas when the actual employee is **SATISFIED (1)** is guessed **NOT SATISFIED**, then for example the company fires him, the company will get a big loss because of losing employees who are enthusiastic at work. So that maybe the company can go bankrupt. Therefore this is what must be avoided\n",
    "- This means that **modeling objectives will be sought with a high recall positive and accuracy**\n",
    "\n",
    "### Confusion Matrix Explanation\n",
    "1. TP ==> is when actual positive is guessed positive\n",
    "2. FP ==> is when the actual negative is guessed positive\n",
    "3. TN ==> is when the actual negative is guessed negative\n",
    "4. FN ==> that is when actual positive is guessed negative\n"
   ]
  },
  {
   "cell_type": "markdown",
   "metadata": {},
   "source": [
    "## A. Base"
   ]
  },
  {
   "cell_type": "markdown",
   "metadata": {},
   "source": [
    "### 1. Base Logistic Regresion"
   ]
  },
  {
   "cell_type": "code",
   "execution_count": 133,
   "metadata": {},
   "outputs": [
    {
     "data": {
      "text/plain": [
       "LogisticRegression()"
      ]
     },
     "execution_count": 133,
     "metadata": {},
     "output_type": "execute_result"
    }
   ],
   "source": [
    "modelog = LogisticRegression()\n",
    "modelog.fit(X_train, y_train)"
   ]
  },
  {
   "cell_type": "code",
   "execution_count": 134,
   "metadata": {},
   "outputs": [],
   "source": [
    "y_pred = modelog.predict(X_test)"
   ]
  },
  {
   "cell_type": "code",
   "execution_count": 135,
   "metadata": {},
   "outputs": [
    {
     "name": "stdout",
     "output_type": "stream",
     "text": [
      "              precision    recall  f1-score   support\n",
      "\n",
      "           0       0.50      0.30      0.37        47\n",
      "           1       0.54      0.74      0.62        53\n",
      "\n",
      "    accuracy                           0.53       100\n",
      "   macro avg       0.52      0.52      0.50       100\n",
      "weighted avg       0.52      0.53      0.51       100\n",
      "\n"
     ]
    }
   ],
   "source": [
    "print(classification_report(y_test, y_pred))"
   ]
  },
  {
   "cell_type": "code",
   "execution_count": 136,
   "metadata": {},
   "outputs": [
    {
     "data": {
      "text/html": [
       "<div>\n",
       "<style scoped>\n",
       "    .dataframe tbody tr th:only-of-type {\n",
       "        vertical-align: middle;\n",
       "    }\n",
       "\n",
       "    .dataframe tbody tr th {\n",
       "        vertical-align: top;\n",
       "    }\n",
       "\n",
       "    .dataframe thead th {\n",
       "        text-align: right;\n",
       "    }\n",
       "</style>\n",
       "<table border=\"1\" class=\"dataframe\">\n",
       "  <thead>\n",
       "    <tr style=\"text-align: right;\">\n",
       "      <th></th>\n",
       "      <th>Pred 1</th>\n",
       "      <th>Pred 0</th>\n",
       "    </tr>\n",
       "  </thead>\n",
       "  <tbody>\n",
       "    <tr>\n",
       "      <th>Act 1</th>\n",
       "      <td>39</td>\n",
       "      <td>14</td>\n",
       "    </tr>\n",
       "    <tr>\n",
       "      <th>Act 0</th>\n",
       "      <td>33</td>\n",
       "      <td>14</td>\n",
       "    </tr>\n",
       "  </tbody>\n",
       "</table>\n",
       "</div>"
      ],
      "text/plain": [
       "       Pred 1  Pred 0\n",
       "Act 1      39      14\n",
       "Act 0      33      14"
      ]
     },
     "execution_count": 136,
     "metadata": {},
     "output_type": "execute_result"
    }
   ],
   "source": [
    "cm = confusion_matrix(y_test, y_pred, labels=[1, 0])\n",
    "confuslog = pd.DataFrame(cm,\n",
    "                 columns=['Pred 1', 'Pred 0'],\n",
    "                 index=['Act 1', 'Act 0'])\n",
    "confuslog"
   ]
  },
  {
   "cell_type": "code",
   "execution_count": 137,
   "metadata": {},
   "outputs": [
    {
     "data": {
      "image/png": "[encoded data removed]",
      "text/plain": [
       "<Figure size 432x288 with 2 Axes>"
      ]
     },
     "metadata": {
      "needs_background": "light"
     },
     "output_type": "display_data"
    }
   ],
   "source": [
    "sns.heatmap(confuslog,annot=True)\n",
    "plt.show()"
   ]
  },
  {
   "cell_type": "code",
   "execution_count": 138,
   "metadata": {},
   "outputs": [
    {
     "data": {
      "text/plain": [
       "0.5168606985146527"
      ]
     },
     "execution_count": 138,
     "metadata": {},
     "output_type": "execute_result"
    }
   ],
   "source": [
    "roc_auc_score(y_test, y_pred)"
   ]
  },
  {
   "cell_type": "markdown",
   "metadata": {},
   "source": [
    "### 2. Base KNN"
   ]
  },
  {
   "cell_type": "code",
   "execution_count": 139,
   "metadata": {},
   "outputs": [
    {
     "data": {
      "text/plain": [
       "KNeighborsClassifier()"
      ]
     },
     "execution_count": 139,
     "metadata": {},
     "output_type": "execute_result"
    }
   ],
   "source": [
    "modelknn = KNeighborsClassifier(n_neighbors=5)\n",
    "modelknn.fit(X_train, y_train)"
   ]
  },
  {
   "cell_type": "code",
   "execution_count": 140,
   "metadata": {},
   "outputs": [],
   "source": [
    "y_predKNN = modelknn.predict(X_test)"
   ]
  },
  {
   "cell_type": "code",
   "execution_count": 141,
   "metadata": {},
   "outputs": [
    {
     "data": {
      "text/plain": [
       "<matplotlib.axes._subplots.AxesSubplot at 0x1d4bcc38908>"
      ]
     },
     "execution_count": 141,
     "metadata": {},
     "output_type": "execute_result"
    },
    {
     "data": {
      "image/png": "[encoded data removed]",
      "text/plain": [
       "<Figure size 432x288 with 2 Axes>"
      ]
     },
     "metadata": {
      "needs_background": "light"
     },
     "output_type": "display_data"
    }
   ],
   "source": [
    "ck = confusion_matrix(y_test, y_predKNN, labels=[1, 0])\n",
    "cknn = pd.DataFrame(ck,\n",
    "                 columns=['Pred 1', 'Pred 0'],\n",
    "                 index=['Act 1', 'Act 0'])\n",
    "sns.heatmap(cknn,annot=True )"
   ]
  },
  {
   "cell_type": "code",
   "execution_count": 142,
   "metadata": {},
   "outputs": [
    {
     "name": "stdout",
     "output_type": "stream",
     "text": [
      "              precision    recall  f1-score   support\n",
      "\n",
      "           0       0.58      0.53      0.56        47\n",
      "           1       0.61      0.66      0.64        53\n",
      "\n",
      "    accuracy                           0.60       100\n",
      "   macro avg       0.60      0.60      0.60       100\n",
      "weighted avg       0.60      0.60      0.60       100\n",
      "\n"
     ]
    }
   ],
   "source": [
    "print(classification_report(y_test, y_predKNN))"
   ]
  },
  {
   "cell_type": "code",
   "execution_count": 143,
   "metadata": {},
   "outputs": [
    {
     "data": {
      "text/plain": [
       "0.5961461260537937"
      ]
     },
     "execution_count": 143,
     "metadata": {},
     "output_type": "execute_result"
    }
   ],
   "source": [
    "roc_auc_score(y_test, y_predKNN)"
   ]
  },
  {
   "cell_type": "markdown",
   "metadata": {},
   "source": [
    "### 3. Base XGBosstClassifier"
   ]
  },
  {
   "cell_type": "code",
   "execution_count": 144,
   "metadata": {},
   "outputs": [
    {
     "data": {
      "text/plain": [
       "XGBClassifier()"
      ]
     },
     "execution_count": 144,
     "metadata": {},
     "output_type": "execute_result"
    }
   ],
   "source": [
    "modelxg = XGBClassifier()\n",
    "modelxg.fit(X_train, y_train)"
   ]
  },
  {
   "cell_type": "code",
   "execution_count": 145,
   "metadata": {},
   "outputs": [],
   "source": [
    "y_predXGB = modelxg.predict(X_test)"
   ]
  },
  {
   "cell_type": "code",
   "execution_count": 146,
   "metadata": {},
   "outputs": [
    {
     "data": {
      "text/plain": [
       "<matplotlib.axes._subplots.AxesSubplot at 0x1d4bccde248>"
      ]
     },
     "execution_count": 146,
     "metadata": {},
     "output_type": "execute_result"
    },
    {
     "data": {
      "image/png": "[encoded data removed]",
      "text/plain": [
       "<Figure size 432x288 with 2 Axes>"
      ]
     },
     "metadata": {
      "needs_background": "light"
     },
     "output_type": "display_data"
    }
   ],
   "source": [
    "cxg = confusion_matrix(y_test, y_predXGB, labels=[1, 0])\n",
    "cxgb = pd.DataFrame(cxg,\n",
    "                 columns=['Pred 1', 'Pred 0'],\n",
    "                 index=['Act 1', 'Act 0'])\n",
    "sns.heatmap(cxgb,annot=True )"
   ]
  },
  {
   "cell_type": "code",
   "execution_count": 147,
   "metadata": {},
   "outputs": [
    {
     "name": "stdout",
     "output_type": "stream",
     "text": [
      "              precision    recall  f1-score   support\n",
      "\n",
      "           0       0.48      0.49      0.48        47\n",
      "           1       0.54      0.53      0.53        53\n",
      "\n",
      "    accuracy                           0.51       100\n",
      "   macro avg       0.51      0.51      0.51       100\n",
      "weighted avg       0.51      0.51      0.51       100\n",
      "\n"
     ]
    }
   ],
   "source": [
    "print(classification_report(y_test, y_predXGB))"
   ]
  },
  {
   "cell_type": "code",
   "execution_count": 148,
   "metadata": {},
   "outputs": [
    {
     "data": {
      "text/plain": [
       "0.5088317944600562"
      ]
     },
     "execution_count": 148,
     "metadata": {},
     "output_type": "execute_result"
    }
   ],
   "source": [
    "roc_auc_score(y_test, y_predXGB)"
   ]
  },
  {
   "cell_type": "markdown",
   "metadata": {},
   "source": [
    "## df3t (dataset with Feature Engineering & Selection)"
   ]
  },
  {
   "cell_type": "markdown",
   "metadata": {},
   "source": [
    "### 1. dft3 Logistic Regresion"
   ]
  },
  {
   "cell_type": "code",
   "execution_count": 149,
   "metadata": {},
   "outputs": [
    {
     "data": {
      "text/plain": [
       "LogisticRegression()"
      ]
     },
     "execution_count": 149,
     "metadata": {},
     "output_type": "execute_result"
    }
   ],
   "source": [
    "modelog3 = LogisticRegression()\n",
    "modelog3.fit(X3_train, y3_train)"
   ]
  },
  {
   "cell_type": "code",
   "execution_count": 150,
   "metadata": {},
   "outputs": [],
   "source": [
    "y3_pred = modelog3.predict(X3_test)"
   ]
  },
  {
   "cell_type": "code",
   "execution_count": 151,
   "metadata": {},
   "outputs": [
    {
     "data": {
      "text/html": [
       "<div>\n",
       "<style scoped>\n",
       "    .dataframe tbody tr th:only-of-type {\n",
       "        vertical-align: middle;\n",
       "    }\n",
       "\n",
       "    .dataframe tbody tr th {\n",
       "        vertical-align: top;\n",
       "    }\n",
       "\n",
       "    .dataframe thead th {\n",
       "        text-align: right;\n",
       "    }\n",
       "</style>\n",
       "<table border=\"1\" class=\"dataframe\">\n",
       "  <thead>\n",
       "    <tr style=\"text-align: right;\">\n",
       "      <th></th>\n",
       "      <th>Pred 1</th>\n",
       "      <th>Pred 0</th>\n",
       "    </tr>\n",
       "  </thead>\n",
       "  <tbody>\n",
       "    <tr>\n",
       "      <th>Act 1</th>\n",
       "      <td>28</td>\n",
       "      <td>25</td>\n",
       "    </tr>\n",
       "    <tr>\n",
       "      <th>Act 0</th>\n",
       "      <td>33</td>\n",
       "      <td>14</td>\n",
       "    </tr>\n",
       "  </tbody>\n",
       "</table>\n",
       "</div>"
      ],
      "text/plain": [
       "       Pred 1  Pred 0\n",
       "Act 1      28      25\n",
       "Act 0      33      14"
      ]
     },
     "execution_count": 151,
     "metadata": {},
     "output_type": "execute_result"
    }
   ],
   "source": [
    "cm3 = confusion_matrix(y3_test, y3_pred, labels=[1, 0])\n",
    "confuslog3 = pd.DataFrame(cm3,\n",
    "                 columns=['Pred 1', 'Pred 0'],\n",
    "                 index=['Act 1', 'Act 0'])\n",
    "confuslog3"
   ]
  },
  {
   "cell_type": "code",
   "execution_count": 152,
   "metadata": {},
   "outputs": [
    {
     "data": {
      "text/plain": [
       "<matplotlib.axes._subplots.AxesSubplot at 0x1d4b820e708>"
      ]
     },
     "execution_count": 152,
     "metadata": {},
     "output_type": "execute_result"
    },
    {
     "data": {
      "image/png": "[encoded data removed]",
      "text/plain": [
       "<Figure size 432x288 with 2 Axes>"
      ]
     },
     "metadata": {
      "needs_background": "light"
     },
     "output_type": "display_data"
    }
   ],
   "source": [
    "sns.heatmap(confuslog3,annot=True)"
   ]
  },
  {
   "cell_type": "code",
   "execution_count": 153,
   "metadata": {},
   "outputs": [
    {
     "name": "stdout",
     "output_type": "stream",
     "text": [
      "              precision    recall  f1-score   support\n",
      "\n",
      "           0       0.36      0.30      0.33        47\n",
      "           1       0.46      0.53      0.49        53\n",
      "\n",
      "    accuracy                           0.42       100\n",
      "   macro avg       0.41      0.41      0.41       100\n",
      "weighted avg       0.41      0.42      0.41       100\n",
      "\n"
     ]
    }
   ],
   "source": [
    "print(classification_report(y3_test, y3_pred))"
   ]
  },
  {
   "cell_type": "code",
   "execution_count": 154,
   "metadata": {},
   "outputs": [
    {
     "data": {
      "text/plain": [
       "0.4130871136089923"
      ]
     },
     "execution_count": 154,
     "metadata": {},
     "output_type": "execute_result"
    }
   ],
   "source": [
    "roc_auc_score(y3_test, y3_pred)"
   ]
  },
  {
   "cell_type": "markdown",
   "metadata": {},
   "source": [
    "### 2. dft3 KNN"
   ]
  },
  {
   "cell_type": "code",
   "execution_count": 155,
   "metadata": {},
   "outputs": [
    {
     "data": {
      "text/plain": [
       "KNeighborsClassifier()"
      ]
     },
     "execution_count": 155,
     "metadata": {},
     "output_type": "execute_result"
    }
   ],
   "source": [
    "modelknn3 = KNeighborsClassifier(n_neighbors=5)\n",
    "modelknn3.fit(X3_train, y3_train)"
   ]
  },
  {
   "cell_type": "code",
   "execution_count": 156,
   "metadata": {},
   "outputs": [],
   "source": [
    "y3_predKNN = modelknn3.predict(X3_test)"
   ]
  },
  {
   "cell_type": "code",
   "execution_count": 157,
   "metadata": {},
   "outputs": [
    {
     "data": {
      "text/plain": [
       "<matplotlib.axes._subplots.AxesSubplot at 0x1d4b7fe2f88>"
      ]
     },
     "execution_count": 157,
     "metadata": {},
     "output_type": "execute_result"
    },
    {
     "data": {
      "image/png": "[encoded data removed]",
      "text/plain": [
       "<Figure size 432x288 with 2 Axes>"
      ]
     },
     "metadata": {
      "needs_background": "light"
     },
     "output_type": "display_data"
    }
   ],
   "source": [
    "ck3 = confusion_matrix(y3_test, y3_predKNN, labels=[1, 0])\n",
    "cknn3 = pd.DataFrame(ck3,\n",
    "                 columns=['Pred 1', 'Pred 0'],\n",
    "                 index=['Act 1', 'Act 0'])\n",
    "sns.heatmap(cknn3,annot=True )"
   ]
  },
  {
   "cell_type": "code",
   "execution_count": 158,
   "metadata": {},
   "outputs": [
    {
     "name": "stdout",
     "output_type": "stream",
     "text": [
      "              precision    recall  f1-score   support\n",
      "\n",
      "           0       0.53      0.51      0.52        47\n",
      "           1       0.58      0.60      0.59        53\n",
      "\n",
      "    accuracy                           0.56       100\n",
      "   macro avg       0.56      0.56      0.56       100\n",
      "weighted avg       0.56      0.56      0.56       100\n",
      "\n"
     ]
    }
   ],
   "source": [
    "print(classification_report(y3_test, y3_predKNN))"
   ]
  },
  {
   "cell_type": "code",
   "execution_count": 159,
   "metadata": {},
   "outputs": [
    {
     "data": {
      "text/plain": [
       "0.5572059413890005"
      ]
     },
     "execution_count": 159,
     "metadata": {},
     "output_type": "execute_result"
    }
   ],
   "source": [
    "roc_auc_score(y3_test, y3_predKNN)"
   ]
  },
  {
   "cell_type": "markdown",
   "metadata": {},
   "source": [
    "### 3. dft3 XGBosstClassifier"
   ]
  },
  {
   "cell_type": "code",
   "execution_count": 160,
   "metadata": {},
   "outputs": [
    {
     "data": {
      "text/plain": [
       "XGBClassifier()"
      ]
     },
     "execution_count": 160,
     "metadata": {},
     "output_type": "execute_result"
    }
   ],
   "source": [
    "modelxg3 = XGBClassifier()\n",
    "modelxg3.fit(X3_train, y3_train)"
   ]
  },
  {
   "cell_type": "code",
   "execution_count": 161,
   "metadata": {},
   "outputs": [],
   "source": [
    "y3_predXGB = modelxg3.predict(X3_test)"
   ]
  },
  {
   "cell_type": "code",
   "execution_count": 162,
   "metadata": {},
   "outputs": [
    {
     "data": {
      "text/plain": [
       "<matplotlib.axes._subplots.AxesSubplot at 0x1d4bc37c388>"
      ]
     },
     "execution_count": 162,
     "metadata": {},
     "output_type": "execute_result"
    },
    {
     "data": {
      "image/png": "[encoded data removed]",
      "text/plain": [
       "<Figure size 432x288 with 2 Axes>"
      ]
     },
     "metadata": {
      "needs_background": "light"
     },
     "output_type": "display_data"
    }
   ],
   "source": [
    "cxg3 = confusion_matrix(y3_test, y3_predXGB, labels=[1, 0])\n",
    "cxgb3 = pd.DataFrame(cxg3,\n",
    "                 columns=['Pred 1', 'Pred 0'],\n",
    "                 index=['Act 1', 'Act 0'])\n",
    "sns.heatmap(cxgb3,annot=True )"
   ]
  },
  {
   "cell_type": "code",
   "execution_count": 163,
   "metadata": {},
   "outputs": [
    {
     "name": "stdout",
     "output_type": "stream",
     "text": [
      "              precision    recall  f1-score   support\n",
      "\n",
      "           0       0.46      0.51      0.48        47\n",
      "           1       0.52      0.47      0.50        53\n",
      "\n",
      "    accuracy                           0.49       100\n",
      "   macro avg       0.49      0.49      0.49       100\n",
      "weighted avg       0.49      0.49      0.49       100\n",
      "\n"
     ]
    }
   ],
   "source": [
    "print(classification_report(y3_test, y3_predXGB))"
   ]
  },
  {
   "cell_type": "code",
   "execution_count": 164,
   "metadata": {},
   "outputs": [
    {
     "data": {
      "text/plain": [
       "0.49116820553994384"
      ]
     },
     "execution_count": 164,
     "metadata": {},
     "output_type": "execute_result"
    }
   ],
   "source": [
    "roc_auc_score(y3_test, y3_predXGB)"
   ]
  },
  {
   "cell_type": "markdown",
   "metadata": {},
   "source": [
    "## Preprocessing (Manual Tunning & Scaling)"
   ]
  },
  {
   "cell_type": "markdown",
   "metadata": {},
   "source": [
    "#### A. Manual Tuning Scalling Base With KNN"
   ]
  },
  {
   "cell_type": "code",
   "execution_count": 165,
   "metadata": {},
   "outputs": [],
   "source": [
    "scaler = StandardScaler()\n",
    "\n",
    "X_train_scaled = scaler.fit_transform(X_train) "
   ]
  },
  {
   "cell_type": "code",
   "execution_count": 166,
   "metadata": {},
   "outputs": [],
   "source": [
    "X_test_scaled = scaler.fit_transform(X_test)"
   ]
  },
  {
   "cell_type": "code",
   "execution_count": 167,
   "metadata": {},
   "outputs": [],
   "source": [
    "train_score = []\n",
    "test_score = []\n",
    "\n",
    "for k in range (1, 100, 2):\n",
    "    knn = KNeighborsClassifier(n_neighbors= k)\n",
    "    knn.fit(X_train_scaled, y_train)\n",
    "#     recall_score(y_test, y_predict)\n",
    "    train_score.append(knn.score(X_train_scaled, y_train))\n",
    "    test_score.append(knn.score(X_test_scaled, y_test))"
   ]
  },
  {
   "cell_type": "code",
   "execution_count": 168,
   "metadata": {},
   "outputs": [
    {
     "data": {
      "image/png": "[encoded data removed]",
      "text/plain": [
       "<Figure size 432x288 with 1 Axes>"
      ]
     },
     "metadata": {
      "needs_background": "light"
     },
     "output_type": "display_data"
    }
   ],
   "source": [
    "plt.plot(range(1, 100, 2), train_score, 'b', label='Train score')\n",
    "plt.plot(range(1, 100, 2), test_score, 'r', label='Test score')\n",
    "plt.legend()\n",
    "plt.show()"
   ]
  },
  {
   "cell_type": "code",
   "execution_count": 169,
   "metadata": {},
   "outputs": [
    {
     "name": "stdout",
     "output_type": "stream",
     "text": [
      "[0.52, 0.55, 0.57, 0.58, 0.59, 0.55, 0.6, 0.59, 0.61, 0.61, 0.63, 0.62, 0.6, 0.6, 0.59, 0.6, 0.58, 0.59, 0.58, 0.56, 0.57, 0.55, 0.6, 0.62, 0.63, 0.6, 0.53, 0.53, 0.52, 0.55, 0.55, 0.52, 0.56, 0.55, 0.52, 0.52, 0.56, 0.57, 0.53, 0.54, 0.55, 0.57, 0.58, 0.62, 0.6, 0.59, 0.61, 0.64, 0.59, 0.56]\n"
     ]
    }
   ],
   "source": [
    "print(test_score)"
   ]
  },
  {
   "cell_type": "code",
   "execution_count": 170,
   "metadata": {},
   "outputs": [
    {
     "data": {
      "text/plain": [
       "0.64"
      ]
     },
     "execution_count": 170,
     "metadata": {},
     "output_type": "execute_result"
    }
   ],
   "source": [
    "np.max(test_score)"
   ]
  },
  {
   "cell_type": "code",
   "execution_count": 171,
   "metadata": {},
   "outputs": [
    {
     "name": "stdout",
     "output_type": "stream",
     "text": [
      "[1, 3, 5, 7, 9, 11, 13, 15, 17, 19, 21, 23, 25, 27, 29, 31, 33, 35, 37, 39, 41, 43, 45, 47, 49, 51, 53, 55, 57, 59, 61, 63, 65, 67, 69, 71, 73, 75, 77, 79, 81, 83, 85, 87, 89, 91, 93, 95, 97, 99]\n"
     ]
    }
   ],
   "source": [
    "k = []\n",
    "for i in range(1, 100, 2):\n",
    "    k.append(i)\n",
    "print(k)"
   ]
  },
  {
   "cell_type": "code",
   "execution_count": 172,
   "metadata": {},
   "outputs": [
    {
     "data": {
      "text/plain": [
       "95"
      ]
     },
     "execution_count": 172,
     "metadata": {},
     "output_type": "execute_result"
    }
   ],
   "source": [
    "k[np.argmax(test_score)]"
   ]
  },
  {
   "cell_type": "markdown",
   "metadata": {},
   "source": [
    "### 1. Base KNN with Scaled"
   ]
  },
  {
   "cell_type": "code",
   "execution_count": 178,
   "metadata": {},
   "outputs": [
    {
     "data": {
      "text/plain": [
       "KNeighborsClassifier(n_neighbors=95)"
      ]
     },
     "execution_count": 178,
     "metadata": {},
     "output_type": "execute_result"
    }
   ],
   "source": [
    "modelknn_s = KNeighborsClassifier(n_neighbors=95)\n",
    "modelknn_s.fit(X_train_scaled, y_train)"
   ]
  },
  {
   "cell_type": "code",
   "execution_count": 179,
   "metadata": {},
   "outputs": [],
   "source": [
    "y_predk_s1 = modelknn_s.predict(X_test_scaled)"
   ]
  },
  {
   "cell_type": "code",
   "execution_count": 180,
   "metadata": {},
   "outputs": [
    {
     "data": {
      "text/plain": [
       "<matplotlib.axes._subplots.AxesSubplot at 0x1d4bcf61448>"
      ]
     },
     "execution_count": 180,
     "metadata": {},
     "output_type": "execute_result"
    },
    {
     "data": {
      "image/png": "[encoded data removed]",
      "text/plain": [
       "<Figure size 432x288 with 2 Axes>"
      ]
     },
     "metadata": {
      "needs_background": "light"
     },
     "output_type": "display_data"
    }
   ],
   "source": [
    "cks = confusion_matrix(y_test, y_predk_s1, labels=[1, 0])\n",
    "cknns = pd.DataFrame(cks,\n",
    "                 columns=['Pred 1', 'Pred 0'],\n",
    "                 index=['Act 1', 'Act 0'])\n",
    "sns.heatmap(cknns,annot=True )"
   ]
  },
  {
   "cell_type": "code",
   "execution_count": 181,
   "metadata": {},
   "outputs": [
    {
     "name": "stdout",
     "output_type": "stream",
     "text": [
      "              precision    recall  f1-score   support\n",
      "\n",
      "           0       0.66      0.49      0.56        47\n",
      "           1       0.63      0.77      0.69        53\n",
      "\n",
      "    accuracy                           0.64       100\n",
      "   macro avg       0.64      0.63      0.63       100\n",
      "weighted avg       0.64      0.64      0.63       100\n",
      "\n"
     ]
    }
   ],
   "source": [
    "print(classification_report(y_test, y_predk_s1))"
   ]
  },
  {
   "cell_type": "code",
   "execution_count": 182,
   "metadata": {},
   "outputs": [
    {
     "data": {
      "text/plain": [
       "0.6314733038940186"
      ]
     },
     "execution_count": 182,
     "metadata": {},
     "output_type": "execute_result"
    }
   ],
   "source": [
    "roc_auc_score(y_test, y_predk_s1)"
   ]
  },
  {
   "cell_type": "markdown",
   "metadata": {},
   "source": [
    "- Ketika rentang k (n_neighbors) dibuat pada range 1-50, diperoleh best param n_neighbors = 21"
   ]
  },
  {
   "cell_type": "code",
   "execution_count": 183,
   "metadata": {},
   "outputs": [
    {
     "data": {
      "text/plain": [
       "KNeighborsClassifier(n_neighbors=21)"
      ]
     },
     "execution_count": 183,
     "metadata": {},
     "output_type": "execute_result"
    }
   ],
   "source": [
    "modelknn_s2 = KNeighborsClassifier(n_neighbors=21)\n",
    "modelknn_s2.fit(X_train_scaled, y_train)"
   ]
  },
  {
   "cell_type": "code",
   "execution_count": 184,
   "metadata": {},
   "outputs": [],
   "source": [
    "y_predk_s2 = modelknn_s2.predict(X_test_scaled)"
   ]
  },
  {
   "cell_type": "code",
   "execution_count": 185,
   "metadata": {},
   "outputs": [
    {
     "data": {
      "text/plain": [
       "<matplotlib.axes._subplots.AxesSubplot at 0x1d4bcff2288>"
      ]
     },
     "execution_count": 185,
     "metadata": {},
     "output_type": "execute_result"
    },
    {
     "data": {
      "image/png": "[encoded data removed]",
      "text/plain": [
       "<Figure size 432x288 with 2 Axes>"
      ]
     },
     "metadata": {
      "needs_background": "light"
     },
     "output_type": "display_data"
    }
   ],
   "source": [
    "cks2 = confusion_matrix(y_test, y_predk_s2, labels=[1, 0])\n",
    "cknns2 = pd.DataFrame(cks2,\n",
    "                 columns=['Pred 1', 'Pred 0'],\n",
    "                 index=['Act 1', 'Act 0'])\n",
    "sns.heatmap(cknns2,annot=True )"
   ]
  },
  {
   "cell_type": "code",
   "execution_count": 186,
   "metadata": {},
   "outputs": [
    {
     "name": "stdout",
     "output_type": "stream",
     "text": [
      "              precision    recall  f1-score   support\n",
      "\n",
      "           0       0.60      0.62      0.61        47\n",
      "           1       0.65      0.64      0.65        53\n",
      "\n",
      "    accuracy                           0.63       100\n",
      "   macro avg       0.63      0.63      0.63       100\n",
      "weighted avg       0.63      0.63      0.63       100\n",
      "\n"
     ]
    }
   ],
   "source": [
    "print(classification_report(y_test, y_predk_s2))"
   ]
  },
  {
   "cell_type": "code",
   "execution_count": 187,
   "metadata": {},
   "outputs": [
    {
     "data": {
      "text/plain": [
       "0.6292653552790044"
      ]
     },
     "execution_count": 187,
     "metadata": {},
     "output_type": "execute_result"
    }
   ],
   "source": [
    "roc_auc_score(y_test, y_predk_s2)"
   ]
  },
  {
   "cell_type": "markdown",
   "metadata": {},
   "source": [
    "### 2. Base scaled with XGBosstClassifier"
   ]
  },
  {
   "cell_type": "code",
   "execution_count": 188,
   "metadata": {},
   "outputs": [
    {
     "data": {
      "text/plain": [
       "XGBClassifier()"
      ]
     },
     "execution_count": 188,
     "metadata": {},
     "output_type": "execute_result"
    }
   ],
   "source": [
    "modelxgs = XGBClassifier()\n",
    "modelxgs.fit(X_train_scaled, y_train)"
   ]
  },
  {
   "cell_type": "code",
   "execution_count": 189,
   "metadata": {},
   "outputs": [],
   "source": [
    "y_predXGBs = modelxgs.predict(X_test_scaled)"
   ]
  },
  {
   "cell_type": "code",
   "execution_count": 190,
   "metadata": {},
   "outputs": [
    {
     "data": {
      "text/plain": [
       "<matplotlib.axes._subplots.AxesSubplot at 0x1d4bd0a3f48>"
      ]
     },
     "execution_count": 190,
     "metadata": {},
     "output_type": "execute_result"
    },
    {
     "data": {
      "image/png": "[encoded data removed]",
      "text/plain": [
       "<Figure size 432x288 with 2 Axes>"
      ]
     },
     "metadata": {
      "needs_background": "light"
     },
     "output_type": "display_data"
    }
   ],
   "source": [
    "cxg_ = confusion_matrix(y_test, y_predXGBs, labels=[1, 0])\n",
    "cxgbs = pd.DataFrame(cxg_,\n",
    "                 columns=['Pred 1', 'Pred 0'],\n",
    "                 index=['Act 1', 'Act 0'])\n",
    "sns.heatmap(cxgbs,annot=True )"
   ]
  },
  {
   "cell_type": "code",
   "execution_count": 191,
   "metadata": {},
   "outputs": [
    {
     "name": "stdout",
     "output_type": "stream",
     "text": [
      "              precision    recall  f1-score   support\n",
      "\n",
      "           0       0.53      0.57      0.55        47\n",
      "           1       0.59      0.55      0.57        53\n",
      "\n",
      "    accuracy                           0.56       100\n",
      "   macro avg       0.56      0.56      0.56       100\n",
      "weighted avg       0.56      0.56      0.56       100\n",
      "\n"
     ]
    }
   ],
   "source": [
    "print(classification_report(y_test, y_predXGBs))"
   ]
  },
  {
   "cell_type": "code",
   "execution_count": 192,
   "metadata": {},
   "outputs": [
    {
     "data": {
      "text/plain": [
       "0.5088317944600562"
      ]
     },
     "execution_count": 192,
     "metadata": {},
     "output_type": "execute_result"
    }
   ],
   "source": [
    "roc_auc_score(y_test, y_predXGB)"
   ]
  },
  {
   "cell_type": "markdown",
   "metadata": {},
   "source": [
    "### 3. Base scaled with Logistic Regression"
   ]
  },
  {
   "cell_type": "code",
   "execution_count": 193,
   "metadata": {},
   "outputs": [
    {
     "data": {
      "text/plain": [
       "LogisticRegression()"
      ]
     },
     "execution_count": 193,
     "metadata": {},
     "output_type": "execute_result"
    }
   ],
   "source": [
    "modelogs = LogisticRegression()\n",
    "modelogs.fit(X_train_scaled, y_train)"
   ]
  },
  {
   "cell_type": "code",
   "execution_count": 194,
   "metadata": {},
   "outputs": [],
   "source": [
    "y_predlogs = modelogs.predict(X_test_scaled)"
   ]
  },
  {
   "cell_type": "code",
   "execution_count": 195,
   "metadata": {},
   "outputs": [
    {
     "data": {
      "text/plain": [
       "<matplotlib.axes._subplots.AxesSubplot at 0x1d4be123a08>"
      ]
     },
     "execution_count": 195,
     "metadata": {},
     "output_type": "execute_result"
    },
    {
     "data": {
      "image/png": "[encoded data removed]",
      "text/plain": [
       "<Figure size 432x288 with 2 Axes>"
      ]
     },
     "metadata": {
      "needs_background": "light"
     },
     "output_type": "display_data"
    }
   ],
   "source": [
    "clog_ = confusion_matrix(y_test, y_predlogs, labels=[1, 0])\n",
    "clogs = pd.DataFrame(clog_,\n",
    "                 columns=['Pred 1', 'Pred 0'],\n",
    "                 index=['Act 1', 'Act 0'])\n",
    "sns.heatmap(clogs,annot=True )"
   ]
  },
  {
   "cell_type": "code",
   "execution_count": 196,
   "metadata": {},
   "outputs": [
    {
     "name": "stdout",
     "output_type": "stream",
     "text": [
      "              precision    recall  f1-score   support\n",
      "\n",
      "           0       0.43      0.34      0.38        47\n",
      "           1       0.51      0.60      0.55        53\n",
      "\n",
      "    accuracy                           0.48       100\n",
      "   macro avg       0.47      0.47      0.47       100\n",
      "weighted avg       0.47      0.48      0.47       100\n",
      "\n"
     ]
    }
   ],
   "source": [
    "print(classification_report(y_test, y_predlogs))"
   ]
  },
  {
   "cell_type": "code",
   "execution_count": 197,
   "metadata": {},
   "outputs": [
    {
     "data": {
      "text/plain": [
       "0.47209955841027695"
      ]
     },
     "execution_count": 197,
     "metadata": {},
     "output_type": "execute_result"
    }
   ],
   "source": [
    "roc_auc_score(y_test, y_predlogs)"
   ]
  },
  {
   "cell_type": "markdown",
   "metadata": {},
   "source": [
    "#### B. Manual Tuning Scalling dft3 KNN"
   ]
  },
  {
   "cell_type": "markdown",
   "metadata": {},
   "source": [
    "### 1. dft3 scaled with KNN"
   ]
  },
  {
   "cell_type": "code",
   "execution_count": 198,
   "metadata": {},
   "outputs": [],
   "source": [
    "scaler = StandardScaler()\n",
    "\n",
    "X3_train_scaled = scaler.fit_transform(X3_train) "
   ]
  },
  {
   "cell_type": "code",
   "execution_count": 199,
   "metadata": {},
   "outputs": [],
   "source": [
    "X3_test_scaled = scaler.fit_transform(X3_test)"
   ]
  },
  {
   "cell_type": "code",
   "execution_count": 200,
   "metadata": {},
   "outputs": [],
   "source": [
    "train_score3 = []\n",
    "test_score3 = []\n",
    "\n",
    "for k in range (1, 100, 2):\n",
    "    knn3 = KNeighborsClassifier(n_neighbors= k)\n",
    "    knn3.fit(X3_train_scaled, y3_train)\n",
    "#     recall_score(y_test, y_predict)\n",
    "    train_score3.append(knn3.score(X3_train_scaled, y3_train))\n",
    "    test_score3.append(knn3.score(X3_test_scaled, y3_test))"
   ]
  },
  {
   "cell_type": "code",
   "execution_count": 201,
   "metadata": {},
   "outputs": [
    {
     "data": {
      "image/png": "[encoded data removed]",
      "text/plain": [
       "<Figure size 432x288 with 1 Axes>"
      ]
     },
     "metadata": {
      "needs_background": "light"
     },
     "output_type": "display_data"
    }
   ],
   "source": [
    "plt.plot(range(1, 100, 2), train_score3, 'b', label='Train score dft3')\n",
    "plt.plot(range(1, 100, 2), test_score3, 'r', label='Test score dft3')\n",
    "plt.legend()\n",
    "plt.show()"
   ]
  },
  {
   "cell_type": "code",
   "execution_count": 202,
   "metadata": {},
   "outputs": [
    {
     "name": "stdout",
     "output_type": "stream",
     "text": [
      "[0.52, 0.5, 0.48, 0.47, 0.45, 0.5, 0.47, 0.46, 0.44, 0.45, 0.43, 0.45, 0.47, 0.47, 0.46, 0.47, 0.44, 0.47, 0.5, 0.46, 0.48, 0.48, 0.46, 0.44, 0.44, 0.42, 0.45, 0.41, 0.42, 0.42, 0.43, 0.44, 0.45, 0.46, 0.46, 0.47, 0.46, 0.47, 0.44, 0.45, 0.46, 0.48, 0.42, 0.42, 0.41, 0.39, 0.43, 0.44, 0.45, 0.45]\n"
     ]
    }
   ],
   "source": [
    "print(test_score3)"
   ]
  },
  {
   "cell_type": "code",
   "execution_count": 203,
   "metadata": {},
   "outputs": [
    {
     "data": {
      "text/plain": [
       "0.52"
      ]
     },
     "execution_count": 203,
     "metadata": {},
     "output_type": "execute_result"
    }
   ],
   "source": [
    "np.max(test_score3)"
   ]
  },
  {
   "cell_type": "code",
   "execution_count": 204,
   "metadata": {},
   "outputs": [
    {
     "name": "stdout",
     "output_type": "stream",
     "text": [
      "[1, 3, 5, 7, 9, 11, 13, 15, 17, 19, 21, 23, 25, 27, 29, 31, 33, 35, 37, 39, 41, 43, 45, 47, 49, 51, 53, 55, 57, 59, 61, 63, 65, 67, 69, 71, 73, 75, 77, 79, 81, 83, 85, 87, 89, 91, 93, 95, 97, 99]\n"
     ]
    }
   ],
   "source": [
    "k = []\n",
    "for i in range(1, 100, 2):\n",
    "    k.append(i)\n",
    "print(k)"
   ]
  },
  {
   "cell_type": "code",
   "execution_count": 205,
   "metadata": {},
   "outputs": [
    {
     "data": {
      "text/plain": [
       "1"
      ]
     },
     "execution_count": 205,
     "metadata": {},
     "output_type": "execute_result"
    }
   ],
   "source": [
    "k[np.argmax(test_score3)]"
   ]
  },
  {
   "cell_type": "code",
   "execution_count": 206,
   "metadata": {},
   "outputs": [
    {
     "data": {
      "text/plain": [
       "KNeighborsClassifier(n_neighbors=49)"
      ]
     },
     "execution_count": 206,
     "metadata": {},
     "output_type": "execute_result"
    }
   ],
   "source": [
    "modelknn_s3 = KNeighborsClassifier(n_neighbors=49)\n",
    "modelknn_s3.fit(X3_train_scaled, y3_train)"
   ]
  },
  {
   "cell_type": "code",
   "execution_count": 207,
   "metadata": {},
   "outputs": [],
   "source": [
    "y_predk_s3 = modelknn_s3.predict(X3_test_scaled)"
   ]
  },
  {
   "cell_type": "code",
   "execution_count": 208,
   "metadata": {},
   "outputs": [
    {
     "data": {
      "text/plain": [
       "<matplotlib.axes._subplots.AxesSubplot at 0x1d4be247a08>"
      ]
     },
     "execution_count": 208,
     "metadata": {},
     "output_type": "execute_result"
    },
    {
     "data": {
      "image/png": "[encoded data removed]",
      "text/plain": [
       "<Figure size 432x288 with 2 Axes>"
      ]
     },
     "metadata": {
      "needs_background": "light"
     },
     "output_type": "display_data"
    }
   ],
   "source": [
    "cks3 = confusion_matrix(y3_test, y_predk_s3, labels=[1, 0])\n",
    "cknns3 = pd.DataFrame(cks3,\n",
    "                 columns=['Pred 1', 'Pred 0'],\n",
    "                 index=['Act 1', 'Act 0'])\n",
    "sns.heatmap(cknns3,annot=True )"
   ]
  },
  {
   "cell_type": "code",
   "execution_count": 209,
   "metadata": {},
   "outputs": [
    {
     "name": "stdout",
     "output_type": "stream",
     "text": [
      "              precision    recall  f1-score   support\n",
      "\n",
      "           0       0.40      0.40      0.40        47\n",
      "           1       0.47      0.47      0.47        53\n",
      "\n",
      "    accuracy                           0.44       100\n",
      "   macro avg       0.44      0.44      0.44       100\n",
      "weighted avg       0.44      0.44      0.44       100\n",
      "\n"
     ]
    }
   ],
   "source": [
    "print(classification_report(y3_test, y_predk_s3))"
   ]
  },
  {
   "cell_type": "code",
   "execution_count": 210,
   "metadata": {},
   "outputs": [
    {
     "data": {
      "text/plain": [
       "0.37775993576876754"
      ]
     },
     "execution_count": 210,
     "metadata": {},
     "output_type": "execute_result"
    }
   ],
   "source": [
    "roc_auc_score(y_test, y_predk_s3)"
   ]
  },
  {
   "cell_type": "markdown",
   "metadata": {},
   "source": [
    "### 2. dft3 scaled with XGBosstClassifier"
   ]
  },
  {
   "cell_type": "code",
   "execution_count": 211,
   "metadata": {},
   "outputs": [
    {
     "data": {
      "text/plain": [
       "XGBClassifier()"
      ]
     },
     "execution_count": 211,
     "metadata": {},
     "output_type": "execute_result"
    }
   ],
   "source": [
    "modelxgs = XGBClassifier()\n",
    "modelxgs.fit(X_train_scaled, y_train)"
   ]
  },
  {
   "cell_type": "code",
   "execution_count": 212,
   "metadata": {},
   "outputs": [],
   "source": [
    "y_predXGBs = modelxgs.predict(X_test_scaled)"
   ]
  },
  {
   "cell_type": "code",
   "execution_count": 213,
   "metadata": {},
   "outputs": [
    {
     "data": {
      "text/plain": [
       "<matplotlib.axes._subplots.AxesSubplot at 0x1d4be2ee408>"
      ]
     },
     "execution_count": 213,
     "metadata": {},
     "output_type": "execute_result"
    },
    {
     "data": {
      "image/png": "[encoded data removed]",
      "text/plain": [
       "<Figure size 432x288 with 2 Axes>"
      ]
     },
     "metadata": {
      "needs_background": "light"
     },
     "output_type": "display_data"
    }
   ],
   "source": [
    "cxg_ = confusion_matrix(y_test, y_predXGBs, labels=[1, 0])\n",
    "cxgbs = pd.DataFrame(cxg_,\n",
    "                 columns=['Pred 1', 'Pred 0'],\n",
    "                 index=['Act 1', 'Act 0'])\n",
    "sns.heatmap(cxgbs,annot=True )"
   ]
  },
  {
   "cell_type": "code",
   "execution_count": 214,
   "metadata": {},
   "outputs": [
    {
     "name": "stdout",
     "output_type": "stream",
     "text": [
      "              precision    recall  f1-score   support\n",
      "\n",
      "           0       0.53      0.57      0.55        47\n",
      "           1       0.59      0.55      0.57        53\n",
      "\n",
      "    accuracy                           0.56       100\n",
      "   macro avg       0.56      0.56      0.56       100\n",
      "weighted avg       0.56      0.56      0.56       100\n",
      "\n"
     ]
    }
   ],
   "source": [
    "print(classification_report(y_test, y_predXGBs))"
   ]
  },
  {
   "cell_type": "code",
   "execution_count": 215,
   "metadata": {},
   "outputs": [
    {
     "data": {
      "text/plain": [
       "0.5608189482135689"
      ]
     },
     "execution_count": 215,
     "metadata": {},
     "output_type": "execute_result"
    }
   ],
   "source": [
    "roc_auc_score(y_test, y_predXGBs)"
   ]
  },
  {
   "cell_type": "markdown",
   "metadata": {},
   "source": [
    "### 3. dft3 scaled with XGBosstClassifier"
   ]
  },
  {
   "cell_type": "code",
   "execution_count": 216,
   "metadata": {},
   "outputs": [
    {
     "data": {
      "text/plain": [
       "XGBClassifier()"
      ]
     },
     "execution_count": 216,
     "metadata": {},
     "output_type": "execute_result"
    }
   ],
   "source": [
    "modelxgs3 = XGBClassifier()\n",
    "modelxgs3.fit(X3_train_scaled, y3_train)"
   ]
  },
  {
   "cell_type": "code",
   "execution_count": 217,
   "metadata": {},
   "outputs": [],
   "source": [
    "y_predXGBs3 = modelxgs3.predict(X3_test_scaled)"
   ]
  },
  {
   "cell_type": "code",
   "execution_count": 218,
   "metadata": {},
   "outputs": [
    {
     "data": {
      "text/plain": [
       "<matplotlib.axes._subplots.AxesSubplot at 0x1d4be3962c8>"
      ]
     },
     "execution_count": 218,
     "metadata": {},
     "output_type": "execute_result"
    },
    {
     "data": {
      "image/png": "[encoded data removed]",
      "text/plain": [
       "<Figure size 432x288 with 2 Axes>"
      ]
     },
     "metadata": {
      "needs_background": "light"
     },
     "output_type": "display_data"
    }
   ],
   "source": [
    "cxg_3 = confusion_matrix(y3_test, y_predXGBs3, labels=[1, 0])\n",
    "cxgbs3 = pd.DataFrame(cxg_3,\n",
    "                 columns=['Pred 1', 'Pred 0'],\n",
    "                 index=['Act 1', 'Act 0'])\n",
    "sns.heatmap(cxgbs3,annot=True )"
   ]
  },
  {
   "cell_type": "code",
   "execution_count": 219,
   "metadata": {},
   "outputs": [
    {
     "name": "stdout",
     "output_type": "stream",
     "text": [
      "              precision    recall  f1-score   support\n",
      "\n",
      "           0       0.42      0.47      0.44        47\n",
      "           1       0.48      0.43      0.46        53\n",
      "\n",
      "    accuracy                           0.45       100\n",
      "   macro avg       0.45      0.45      0.45       100\n",
      "weighted avg       0.45      0.45      0.45       100\n",
      "\n"
     ]
    }
   ],
   "source": [
    "print(classification_report(y_test, y_predXGBs3))"
   ]
  },
  {
   "cell_type": "code",
   "execution_count": 220,
   "metadata": {},
   "outputs": [
    {
     "data": {
      "text/plain": [
       "0.4510236852669611"
      ]
     },
     "execution_count": 220,
     "metadata": {},
     "output_type": "execute_result"
    }
   ],
   "source": [
    "roc_auc_score(y_test, y_predXGBs3)"
   ]
  },
  {
   "cell_type": "markdown",
   "metadata": {},
   "source": [
    "# Hyperparam"
   ]
  },
  {
   "cell_type": "markdown",
   "metadata": {},
   "source": [
    "#### A. Hyperparam Base Scaled"
   ]
  },
  {
   "cell_type": "markdown",
   "metadata": {},
   "source": [
    "#### 1. Hyperparameter Tuning KNN"
   ]
  },
  {
   "cell_type": "code",
   "execution_count": 148,
   "metadata": {},
   "outputs": [],
   "source": [
    "modelkh = KNeighborsClassifier()\n",
    "\n",
    "param_rf = {\n",
    "    \"n_neighbors\" : range(50,100,1),\n",
    "    \"weights\" : [\"uniform\", \"distance\"],\n",
    "    \"p\" : [2, 1]\n",
    "}"
   ]
  },
  {
   "cell_type": "code",
   "execution_count": 149,
   "metadata": {},
   "outputs": [],
   "source": [
    "modelKRS= RandomizedSearchCV(\n",
    "    estimator = modelkh, \n",
    "    param_distributions = param_rf, \n",
    "    cv = 5)\n",
    "\n",
    "modelKGS = GridSearchCV(modelkh, param_rf, cv=5, n_jobs=-1, verbose=1)"
   ]
  },
  {
   "cell_type": "code",
   "execution_count": 150,
   "metadata": {},
   "outputs": [
    {
     "name": "stdout",
     "output_type": "stream",
     "text": [
      "Fitting 5 folds for each of 200 candidates, totalling 1000 fits\n"
     ]
    },
    {
     "name": "stderr",
     "output_type": "stream",
     "text": [
      "[Parallel(n_jobs=-1)]: Using backend LokyBackend with 8 concurrent workers.\n",
      "[Parallel(n_jobs=-1)]: Done  34 tasks      | elapsed:    3.4s\n",
      "[Parallel(n_jobs=-1)]: Done 904 tasks      | elapsed:    4.8s\n",
      "[Parallel(n_jobs=-1)]: Done 1000 out of 1000 | elapsed:    5.0s finished\n"
     ]
    },
    {
     "data": {
      "text/plain": [
       "GridSearchCV(cv=5, estimator=KNeighborsClassifier(), n_jobs=-1,\n",
       "             param_grid={'n_neighbors': range(50, 100), 'p': [2, 1],\n",
       "                         'weights': ['uniform', 'distance']},\n",
       "             verbose=1)"
      ]
     },
     "execution_count": 150,
     "metadata": {},
     "output_type": "execute_result"
    }
   ],
   "source": [
    "modelKRS.fit(X_train_scaled, y_train)\n",
    "modelKGS.fit(X_train_scaled, y_train)"
   ]
  },
  {
   "cell_type": "code",
   "execution_count": 151,
   "metadata": {},
   "outputs": [
    {
     "data": {
      "text/plain": [
       "{'weights': 'uniform', 'p': 2, 'n_neighbors': 70}"
      ]
     },
     "execution_count": 151,
     "metadata": {},
     "output_type": "execute_result"
    }
   ],
   "source": [
    "modelKRS.best_params_"
   ]
  },
  {
   "cell_type": "code",
   "execution_count": 152,
   "metadata": {},
   "outputs": [
    {
     "data": {
      "text/plain": [
       "{'n_neighbors': 78, 'p': 1, 'weights': 'uniform'}"
      ]
     },
     "execution_count": 152,
     "metadata": {},
     "output_type": "execute_result"
    }
   ],
   "source": [
    "modelKGS.best_params_"
   ]
  },
  {
   "cell_type": "code",
   "execution_count": 153,
   "metadata": {},
   "outputs": [],
   "source": [
    "y_pred_KRS = modelKRS.predict(X_test_scaled)\n",
    "y_pred_KGS = modelKGS.predict(X_test_scaled)"
   ]
  },
  {
   "cell_type": "code",
   "execution_count": 154,
   "metadata": {},
   "outputs": [
    {
     "name": "stdout",
     "output_type": "stream",
     "text": [
      "              precision    recall  f1-score   support\n",
      "\n",
      "           0       0.50      0.43      0.46        47\n",
      "           1       0.55      0.62      0.58        53\n",
      "\n",
      "    accuracy                           0.53       100\n",
      "   macro avg       0.53      0.52      0.52       100\n",
      "weighted avg       0.53      0.53      0.53       100\n",
      "\n"
     ]
    }
   ],
   "source": [
    "print(classification_report(y_test, y_pred_KRS))"
   ]
  },
  {
   "cell_type": "code",
   "execution_count": 155,
   "metadata": {},
   "outputs": [
    {
     "name": "stdout",
     "output_type": "stream",
     "text": [
      "              precision    recall  f1-score   support\n",
      "\n",
      "           0       0.51      0.40      0.45        47\n",
      "           1       0.56      0.66      0.60        53\n",
      "\n",
      "    accuracy                           0.54       100\n",
      "   macro avg       0.53      0.53      0.53       100\n",
      "weighted avg       0.54      0.54      0.53       100\n",
      "\n"
     ]
    }
   ],
   "source": [
    "print(classification_report(y_test, y_pred_KGS))"
   ]
  },
  {
   "cell_type": "markdown",
   "metadata": {},
   "source": [
    "#### 2. Hyperparameter Tuning Logistic Regression"
   ]
  },
  {
   "cell_type": "code",
   "execution_count": 156,
   "metadata": {},
   "outputs": [],
   "source": [
    "modelogh = LogisticRegression()\n",
    "paramlog = {\n",
    "    'penalty': ['l1', 'l2', 'elasticnet'],\n",
    "    'solver': ['newton-cg', 'lbfgs', 'liblinear', 'sag', 'saga'],\n",
    "    'max_iter':[1, 10, 100, 1000, 10000],\n",
    "    'multi_class':['auto', 'ovr']\n",
    "}"
   ]
  },
  {
   "cell_type": "code",
   "execution_count": 157,
   "metadata": {},
   "outputs": [],
   "source": [
    "modelLRS = RandomizedSearchCV(\n",
    "    estimator = modelogh, \n",
    "    param_distributions = paramlog, cv = 5)\n",
    "\n",
    "modelLGS = GridSearchCV(modelogh, paramlog, cv=5, n_jobs=-1, verbose=1)"
   ]
  },
  {
   "cell_type": "code",
   "execution_count": 158,
   "metadata": {},
   "outputs": [
    {
     "name": "stdout",
     "output_type": "stream",
     "text": [
      "Fitting 5 folds for each of 150 candidates, totalling 750 fits\n"
     ]
    },
    {
     "name": "stderr",
     "output_type": "stream",
     "text": [
      "[Parallel(n_jobs=-1)]: Using backend LokyBackend with 8 concurrent workers.\n",
      "[Parallel(n_jobs=-1)]: Done  56 tasks      | elapsed:    0.2s\n",
      "[Parallel(n_jobs=-1)]: Done 720 tasks      | elapsed:    1.1s\n",
      "[Parallel(n_jobs=-1)]: Done 750 out of 750 | elapsed:    1.1s finished\n"
     ]
    },
    {
     "data": {
      "text/plain": [
       "GridSearchCV(cv=5, estimator=LogisticRegression(), n_jobs=-1,\n",
       "             param_grid={'max_iter': [1, 10, 100, 1000, 10000],\n",
       "                         'multi_class': ['auto', 'ovr'],\n",
       "                         'penalty': ['l1', 'l2', 'elasticnet'],\n",
       "                         'solver': ['newton-cg', 'lbfgs', 'liblinear', 'sag',\n",
       "                                    'saga']},\n",
       "             verbose=1)"
      ]
     },
     "execution_count": 158,
     "metadata": {},
     "output_type": "execute_result"
    }
   ],
   "source": [
    "modelLRS.fit(X_train_scaled, y_train)\n",
    "modelLGS.fit(X_train_scaled, y_train)"
   ]
  },
  {
   "cell_type": "code",
   "execution_count": 159,
   "metadata": {},
   "outputs": [
    {
     "data": {
      "text/plain": [
       "{'solver': 'liblinear',\n",
       " 'penalty': 'l1',\n",
       " 'multi_class': 'ovr',\n",
       " 'max_iter': 1000}"
      ]
     },
     "execution_count": 159,
     "metadata": {},
     "output_type": "execute_result"
    }
   ],
   "source": [
    "modelLRS.best_params_\n",
    "# LogisticRegression('solver': 'saga', 'penalty': 'l2')"
   ]
  },
  {
   "cell_type": "code",
   "execution_count": 160,
   "metadata": {},
   "outputs": [
    {
     "data": {
      "text/plain": [
       "{'max_iter': 1, 'multi_class': 'ovr', 'penalty': 'l1', 'solver': 'saga'}"
      ]
     },
     "execution_count": 160,
     "metadata": {},
     "output_type": "execute_result"
    }
   ],
   "source": [
    "modelLGS.best_params_"
   ]
  },
  {
   "cell_type": "code",
   "execution_count": 161,
   "metadata": {},
   "outputs": [],
   "source": [
    "y_pred_RS_L = modelLRS.predict(X_test_scaled)\n",
    "y_pred_GS_L = modelLGS.predict(X_test_scaled)\n",
    "# y_rf = modelRF.predict(X_test)"
   ]
  },
  {
   "cell_type": "code",
   "execution_count": 162,
   "metadata": {},
   "outputs": [
    {
     "name": "stdout",
     "output_type": "stream",
     "text": [
      "              precision    recall  f1-score   support\n",
      "\n",
      "           0       0.44      0.34      0.39        47\n",
      "           1       0.52      0.62      0.56        53\n",
      "\n",
      "    accuracy                           0.49       100\n",
      "   macro avg       0.48      0.48      0.47       100\n",
      "weighted avg       0.48      0.49      0.48       100\n",
      "\n"
     ]
    }
   ],
   "source": [
    "print(classification_report(y_test, y_pred_RS_L))"
   ]
  },
  {
   "cell_type": "code",
   "execution_count": 163,
   "metadata": {},
   "outputs": [
    {
     "name": "stdout",
     "output_type": "stream",
     "text": [
      "              precision    recall  f1-score   support\n",
      "\n",
      "           0       0.56      0.43      0.48        47\n",
      "           1       0.58      0.70      0.63        53\n",
      "\n",
      "    accuracy                           0.57       100\n",
      "   macro avg       0.57      0.56      0.56       100\n",
      "weighted avg       0.57      0.57      0.56       100\n",
      "\n"
     ]
    }
   ],
   "source": [
    "print(classification_report(y_test, y_pred_GS_L))"
   ]
  },
  {
   "cell_type": "markdown",
   "metadata": {},
   "source": [
    "#### 3. Hyperparameter Tuning XGBClassifier"
   ]
  },
  {
   "cell_type": "code",
   "execution_count": 167,
   "metadata": {},
   "outputs": [],
   "source": [
    "modelxgh = XGBClassifier()\n",
    "paramxg = {\n",
    "    'max_depth':np.random.randint(1,10,10),\n",
    "    'learning_rate': np.logspace(-3,0,15),\n",
    "    'n_estimators':np.random.randint(100,200,10),\n",
    "    'gamma':np.random.randint(1,10,10)\n",
    "}"
   ]
  },
  {
   "cell_type": "code",
   "execution_count": 168,
   "metadata": {},
   "outputs": [],
   "source": [
    "modelXRS = RandomizedSearchCV(\n",
    "    estimator = modelxgh, \n",
    "    param_distributions = paramxg, cv = 5)\n",
    "\n",
    "modelXGS = GridSearchCV(modelxgh, paramxg, cv=5, n_jobs=-1, verbose=1)"
   ]
  },
  {
   "cell_type": "code",
   "execution_count": 169,
   "metadata": {},
   "outputs": [
    {
     "name": "stdout",
     "output_type": "stream",
     "text": [
      "Fitting 5 folds for each of 15000 candidates, totalling 75000 fits\n"
     ]
    },
    {
     "name": "stderr",
     "output_type": "stream",
     "text": [
      "[Parallel(n_jobs=-1)]: Using backend LokyBackend with 8 concurrent workers.\n",
      "[Parallel(n_jobs=-1)]: Done  34 tasks      | elapsed:    3.7s\n",
      "[Parallel(n_jobs=-1)]: Done 464 tasks      | elapsed:    9.2s\n",
      "[Parallel(n_jobs=-1)]: Done 1464 tasks      | elapsed:   22.2s\n",
      "[Parallel(n_jobs=-1)]: Done 2864 tasks      | elapsed:   40.6s\n",
      "[Parallel(n_jobs=-1)]: Done 4664 tasks      | elapsed:  1.1min\n",
      "[Parallel(n_jobs=-1)]: Done 6864 tasks      | elapsed:  1.5min\n",
      "[Parallel(n_jobs=-1)]: Done 9464 tasks      | elapsed:  2.1min\n",
      "[Parallel(n_jobs=-1)]: Done 12464 tasks      | elapsed:  2.8min\n",
      "[Parallel(n_jobs=-1)]: Done 15864 tasks      | elapsed:  3.5min\n",
      "[Parallel(n_jobs=-1)]: Done 19664 tasks      | elapsed:  4.3min\n",
      "[Parallel(n_jobs=-1)]: Done 23864 tasks      | elapsed:  5.2min\n",
      "[Parallel(n_jobs=-1)]: Done 28464 tasks      | elapsed:  6.2min\n",
      "[Parallel(n_jobs=-1)]: Done 33464 tasks      | elapsed:  7.3min\n",
      "[Parallel(n_jobs=-1)]: Done 38864 tasks      | elapsed:  8.5min\n",
      "[Parallel(n_jobs=-1)]: Done 44664 tasks      | elapsed:  9.7min\n",
      "[Parallel(n_jobs=-1)]: Done 50864 tasks      | elapsed: 11.1min\n",
      "[Parallel(n_jobs=-1)]: Done 57464 tasks      | elapsed: 12.6min\n",
      "[Parallel(n_jobs=-1)]: Done 64464 tasks      | elapsed: 14.1min\n",
      "[Parallel(n_jobs=-1)]: Done 71864 tasks      | elapsed: 15.8min\n",
      "[Parallel(n_jobs=-1)]: Done 75000 out of 75000 | elapsed: 16.5min finished\n"
     ]
    },
    {
     "data": {
      "text/plain": [
       "GridSearchCV(cv=5, estimator=XGBClassifier(), n_jobs=-1,\n",
       "             param_grid={'gamma': array([4, 7, 9, 2, 2, 7, 5, 8, 3, 7]),\n",
       "                         'learning_rate': array([0.001     , 0.00163789, 0.0026827 , 0.00439397, 0.00719686,\n",
       "       0.01178769, 0.01930698, 0.03162278, 0.05179475, 0.08483429,\n",
       "       0.13894955, 0.22758459, 0.37275937, 0.61054023, 1.        ]),\n",
       "                         'max_depth': array([6, 1, 6, 9, 2, 1, 1, 3, 5, 2]),\n",
       "                         'n_estimators': array([157, 113, 103, 198, 135, 164, 104, 131, 197, 191])},\n",
       "             verbose=1)"
      ]
     },
     "execution_count": 169,
     "metadata": {},
     "output_type": "execute_result"
    }
   ],
   "source": [
    "modelXRS.fit(X_train_scaled, y_train)\n",
    "modelXGS.fit(X_train_scaled, y_train)"
   ]
  },
  {
   "cell_type": "code",
   "execution_count": 170,
   "metadata": {},
   "outputs": [
    {
     "data": {
      "text/plain": [
       "{'n_estimators': 197,\n",
       " 'max_depth': 6,\n",
       " 'learning_rate': 0.3727593720314938,\n",
       " 'gamma': 5}"
      ]
     },
     "execution_count": 170,
     "metadata": {},
     "output_type": "execute_result"
    }
   ],
   "source": [
    "modelXRS.best_params_\n",
    "# LogisticRegression('solver': 'saga', 'penalty': 'l2')"
   ]
  },
  {
   "cell_type": "code",
   "execution_count": 171,
   "metadata": {},
   "outputs": [
    {
     "data": {
      "text/plain": [
       "{'gamma': 2,\n",
       " 'learning_rate': 0.0071968567300115215,\n",
       " 'max_depth': 3,\n",
       " 'n_estimators': 157}"
      ]
     },
     "execution_count": 171,
     "metadata": {},
     "output_type": "execute_result"
    }
   ],
   "source": [
    "modelXGS.best_params_"
   ]
  },
  {
   "cell_type": "code",
   "execution_count": 172,
   "metadata": {},
   "outputs": [],
   "source": [
    "y_pred_RS_X = modelXRS.predict(X_test_scaled)\n",
    "y_pred_GS_X = modelXGS.predict(X_test_scaled)\n",
    "# y_rf = modelRF.predict(X_test)"
   ]
  },
  {
   "cell_type": "code",
   "execution_count": 173,
   "metadata": {},
   "outputs": [
    {
     "name": "stdout",
     "output_type": "stream",
     "text": [
      "              precision    recall  f1-score   support\n",
      "\n",
      "           0       0.47      0.47      0.47        47\n",
      "           1       0.53      0.53      0.53        53\n",
      "\n",
      "    accuracy                           0.50       100\n",
      "   macro avg       0.50      0.50      0.50       100\n",
      "weighted avg       0.50      0.50      0.50       100\n",
      "\n"
     ]
    }
   ],
   "source": [
    "print(classification_report(y_test, y_pred_RS_X))"
   ]
  },
  {
   "cell_type": "code",
   "execution_count": 174,
   "metadata": {},
   "outputs": [
    {
     "name": "stdout",
     "output_type": "stream",
     "text": [
      "              precision    recall  f1-score   support\n",
      "\n",
      "           0       0.56      0.57      0.57        47\n",
      "           1       0.62      0.60      0.61        53\n",
      "\n",
      "    accuracy                           0.59       100\n",
      "   macro avg       0.59      0.59      0.59       100\n",
      "weighted avg       0.59      0.59      0.59       100\n",
      "\n"
     ]
    }
   ],
   "source": [
    "print(classification_report(y_test, y_pred_GS_X))"
   ]
  },
  {
   "cell_type": "markdown",
   "metadata": {},
   "source": [
    "#### B. Hyperparam df3t Scaled"
   ]
  },
  {
   "cell_type": "markdown",
   "metadata": {},
   "source": [
    "#### 1. Hyperparameter Tuning KNN"
   ]
  },
  {
   "cell_type": "code",
   "execution_count": 175,
   "metadata": {},
   "outputs": [],
   "source": [
    "modelkh3 = KNeighborsClassifier()\n",
    "\n",
    "param_rf3 = {\n",
    "    \"n_neighbors\" : np.random.randint(100,200,10),\n",
    "    \"weights\" : [\"uniform\", \"distance\"],\n",
    "    \"p\" : np.random.randint(1,10,10)\n",
    "}"
   ]
  },
  {
   "cell_type": "code",
   "execution_count": 176,
   "metadata": {},
   "outputs": [],
   "source": [
    "modelKRSh3= RandomizedSearchCV(\n",
    "    estimator = modelkh3, \n",
    "    param_distributions = param_rf3, \n",
    "    cv = 5)\n",
    "\n",
    "modelKGSh3 = GridSearchCV(modelkh3, param_rf3, cv=5, n_jobs=-1, verbose=1)"
   ]
  },
  {
   "cell_type": "code",
   "execution_count": 177,
   "metadata": {},
   "outputs": [
    {
     "name": "stdout",
     "output_type": "stream",
     "text": [
      "Fitting 5 folds for each of 200 candidates, totalling 1000 fits\n"
     ]
    },
    {
     "name": "stderr",
     "output_type": "stream",
     "text": [
      "[Parallel(n_jobs=-1)]: Using backend LokyBackend with 8 concurrent workers.\n",
      "[Parallel(n_jobs=-1)]: Done  36 tasks      | elapsed:    0.3s\n",
      "[Parallel(n_jobs=-1)]: Done 948 tasks      | elapsed:    3.0s\n",
      "[Parallel(n_jobs=-1)]: Done 985 out of 1000 | elapsed:    3.0s remaining:    0.0s\n",
      "[Parallel(n_jobs=-1)]: Done 1000 out of 1000 | elapsed:    3.1s finished\n"
     ]
    },
    {
     "data": {
      "text/plain": [
       "GridSearchCV(cv=5, estimator=KNeighborsClassifier(), n_jobs=-1,\n",
       "             param_grid={'n_neighbors': array([196, 193, 103, 100, 172, 163, 168, 146, 117, 125]),\n",
       "                         'p': array([5, 2, 7, 5, 9, 8, 2, 3, 2, 2]),\n",
       "                         'weights': ['uniform', 'distance']},\n",
       "             verbose=1)"
      ]
     },
     "execution_count": 177,
     "metadata": {},
     "output_type": "execute_result"
    }
   ],
   "source": [
    "modelKRSh3.fit(X3_train_scaled, y_train)\n",
    "modelKGSh3.fit(X3_train_scaled, y_train)"
   ]
  },
  {
   "cell_type": "code",
   "execution_count": 178,
   "metadata": {},
   "outputs": [
    {
     "data": {
      "text/plain": [
       "{'weights': 'uniform', 'p': 7, 'n_neighbors': 125}"
      ]
     },
     "execution_count": 178,
     "metadata": {},
     "output_type": "execute_result"
    }
   ],
   "source": [
    "modelKRSh3.best_params_"
   ]
  },
  {
   "cell_type": "code",
   "execution_count": 179,
   "metadata": {},
   "outputs": [
    {
     "data": {
      "text/plain": [
       "{'n_neighbors': 193, 'p': 8, 'weights': 'uniform'}"
      ]
     },
     "execution_count": 179,
     "metadata": {},
     "output_type": "execute_result"
    }
   ],
   "source": [
    "modelKGSh3.best_params_"
   ]
  },
  {
   "cell_type": "code",
   "execution_count": 180,
   "metadata": {},
   "outputs": [],
   "source": [
    "y_pred_KRSh3 = modelKRSh3.predict(X3_test_scaled)\n",
    "y_pred_KGSh3 = modelKGSh3.predict(X3_test_scaled)"
   ]
  },
  {
   "cell_type": "code",
   "execution_count": 181,
   "metadata": {},
   "outputs": [
    {
     "name": "stdout",
     "output_type": "stream",
     "text": [
      "              precision    recall  f1-score   support\n",
      "\n",
      "           0       0.42      0.23      0.30        47\n",
      "           1       0.51      0.72      0.60        53\n",
      "\n",
      "    accuracy                           0.49       100\n",
      "   macro avg       0.47      0.48      0.45       100\n",
      "weighted avg       0.47      0.49      0.46       100\n",
      "\n"
     ]
    }
   ],
   "source": [
    "print(classification_report(y_test, y_pred_KRSh3))"
   ]
  },
  {
   "cell_type": "code",
   "execution_count": 225,
   "metadata": {},
   "outputs": [
    {
     "name": "stdout",
     "output_type": "stream",
     "text": [
      "              precision    recall  f1-score   support\n",
      "\n",
      "           0       0.56      0.21      0.31        47\n",
      "           1       0.55      0.85      0.67        53\n",
      "\n",
      "    accuracy                           0.55       100\n",
      "   macro avg       0.55      0.53      0.49       100\n",
      "weighted avg       0.55      0.55      0.50       100\n",
      "\n"
     ]
    }
   ],
   "source": [
    "print(classification_report(y_test, y_pred_KGSh3))"
   ]
  },
  {
   "cell_type": "code",
   "execution_count": 201,
   "metadata": {},
   "outputs": [
    {
     "data": {
      "text/plain": [
       "<matplotlib.axes._subplots.AxesSubplot at 0x165c5179b08>"
      ]
     },
     "execution_count": 201,
     "metadata": {},
     "output_type": "execute_result"
    },
    {
     "data": {
      "image/png": "[encoded data removed]",
      "text/plain": [
       "<Figure size 432x288 with 2 Axes>"
      ]
     },
     "metadata": {
      "needs_background": "light"
     },
     "output_type": "display_data"
    }
   ],
   "source": [
    "ckgsh_ = confusion_matrix(y3_test, y_pred_KGSh3, labels=[1, 0])\n",
    "ckgsh3 = pd.DataFrame(ckgsh_,\n",
    "                 columns=['Pred 1', 'Pred 0'],\n",
    "                 index=['Act 1', 'Act 0'])\n",
    "sns.heatmap(ckgsh3,annot=True )"
   ]
  },
  {
   "cell_type": "markdown",
   "metadata": {},
   "source": [
    "#### 2. Hyperparameter Tuning Logistic Regression"
   ]
  },
  {
   "cell_type": "code",
   "execution_count": 183,
   "metadata": {},
   "outputs": [],
   "source": [
    "modelogh3 = LogisticRegression()\n",
    "paramlogh3 = {\n",
    "    'penalty': ['l1', 'l2', 'elasticnet'],\n",
    "    'solver': ['newton-cg', 'lbfgs', 'liblinear', 'sag', 'saga'],\n",
    "    'max_iter':[1, 10, 100, 1000, 10000],\n",
    "    'multi_class':['auto', 'ovr']\n",
    "}"
   ]
  },
  {
   "cell_type": "code",
   "execution_count": 185,
   "metadata": {},
   "outputs": [],
   "source": [
    "modelLRSh3 = RandomizedSearchCV(\n",
    "    estimator = modelogh3, \n",
    "    param_distributions = paramlogh3, cv = 5)\n",
    "\n",
    "modelLGSh3 = GridSearchCV(modelogh3, paramlogh3, cv=5, n_jobs=-1, verbose=1)"
   ]
  },
  {
   "cell_type": "code",
   "execution_count": 186,
   "metadata": {},
   "outputs": [
    {
     "name": "stdout",
     "output_type": "stream",
     "text": [
      "Fitting 5 folds for each of 150 candidates, totalling 750 fits\n"
     ]
    },
    {
     "name": "stderr",
     "output_type": "stream",
     "text": [
      "[Parallel(n_jobs=-1)]: Using backend LokyBackend with 8 concurrent workers.\n",
      "[Parallel(n_jobs=-1)]: Done  56 tasks      | elapsed:    0.2s\n",
      "[Parallel(n_jobs=-1)]: Done 720 tasks      | elapsed:    1.1s\n",
      "[Parallel(n_jobs=-1)]: Done 750 out of 750 | elapsed:    1.2s finished\n"
     ]
    },
    {
     "data": {
      "text/plain": [
       "GridSearchCV(cv=5, estimator=LogisticRegression(), n_jobs=-1,\n",
       "             param_grid={'max_iter': [1, 10, 100, 1000, 10000],\n",
       "                         'multi_class': ['auto', 'ovr'],\n",
       "                         'penalty': ['l1', 'l2', 'elasticnet'],\n",
       "                         'solver': ['newton-cg', 'lbfgs', 'liblinear', 'sag',\n",
       "                                    'saga']},\n",
       "             verbose=1)"
      ]
     },
     "execution_count": 186,
     "metadata": {},
     "output_type": "execute_result"
    }
   ],
   "source": [
    "modelLRSh3.fit(X3_train_scaled, y_train)\n",
    "modelLGSh3.fit(X3_train_scaled, y_train)"
   ]
  },
  {
   "cell_type": "code",
   "execution_count": 187,
   "metadata": {},
   "outputs": [
    {
     "data": {
      "text/plain": [
       "{'solver': 'saga', 'penalty': 'l1', 'multi_class': 'ovr', 'max_iter': 100}"
      ]
     },
     "execution_count": 187,
     "metadata": {},
     "output_type": "execute_result"
    }
   ],
   "source": [
    "modelLRSh3.best_params_\n",
    "# LogisticRegression('solver': 'saga', 'penalty': 'l2')"
   ]
  },
  {
   "cell_type": "code",
   "execution_count": 188,
   "metadata": {},
   "outputs": [
    {
     "data": {
      "text/plain": [
       "{'max_iter': 10, 'multi_class': 'ovr', 'penalty': 'l2', 'solver': 'sag'}"
      ]
     },
     "execution_count": 188,
     "metadata": {},
     "output_type": "execute_result"
    }
   ],
   "source": [
    "modelLGSh3.best_params_"
   ]
  },
  {
   "cell_type": "code",
   "execution_count": 189,
   "metadata": {},
   "outputs": [],
   "source": [
    "y_pred_RS_Lh3 = modelLRSh3.predict(X3_test_scaled)\n",
    "y_pred_GS_Lh3 = modelLGSh3.predict(X3_test_scaled)\n",
    "# y_rf = modelRF.predict(X_test)"
   ]
  },
  {
   "cell_type": "code",
   "execution_count": 190,
   "metadata": {},
   "outputs": [
    {
     "name": "stdout",
     "output_type": "stream",
     "text": [
      "              precision    recall  f1-score   support\n",
      "\n",
      "           0       0.44      0.34      0.39        47\n",
      "           1       0.52      0.62      0.56        53\n",
      "\n",
      "    accuracy                           0.49       100\n",
      "   macro avg       0.48      0.48      0.47       100\n",
      "weighted avg       0.48      0.49      0.48       100\n",
      "\n"
     ]
    }
   ],
   "source": [
    "print(classification_report(y_test, y_pred_RS_Lh3))"
   ]
  },
  {
   "cell_type": "code",
   "execution_count": 191,
   "metadata": {},
   "outputs": [
    {
     "name": "stdout",
     "output_type": "stream",
     "text": [
      "              precision    recall  f1-score   support\n",
      "\n",
      "           0       0.46      0.45      0.45        47\n",
      "           1       0.52      0.53      0.52        53\n",
      "\n",
      "    accuracy                           0.49       100\n",
      "   macro avg       0.49      0.49      0.49       100\n",
      "weighted avg       0.49      0.49      0.49       100\n",
      "\n"
     ]
    }
   ],
   "source": [
    "print(classification_report(y_test, y_pred_GS_Lh3))"
   ]
  },
  {
   "cell_type": "markdown",
   "metadata": {},
   "source": [
    "#### 3. Hyperparameter Tuning XGBClassifier"
   ]
  },
  {
   "cell_type": "code",
   "execution_count": 192,
   "metadata": {},
   "outputs": [],
   "source": [
    "modelxgh3 = XGBClassifier()\n",
    "paramxgh3 = {\n",
    "    'max_depth':np.random.randint(1,10,10),\n",
    "    'learning_rate': np.logspace(-3,0,15),\n",
    "    'n_estimators':np.random.randint(100,200,10),\n",
    "    'gamma':np.random.randint(1,10,10)\n",
    "}"
   ]
  },
  {
   "cell_type": "code",
   "execution_count": 193,
   "metadata": {},
   "outputs": [],
   "source": [
    "modelXRSh3 = RandomizedSearchCV(\n",
    "    estimator = modelxgh3, \n",
    "    param_distributions = paramxgh3, cv = 5)\n",
    "\n",
    "modelXGSh3 = GridSearchCV(modelxgh3, paramxgh3, cv=5, n_jobs=-1, verbose=1)"
   ]
  },
  {
   "cell_type": "code",
   "execution_count": 194,
   "metadata": {},
   "outputs": [
    {
     "name": "stdout",
     "output_type": "stream",
     "text": [
      "Fitting 5 folds for each of 15000 candidates, totalling 75000 fits\n"
     ]
    },
    {
     "name": "stderr",
     "output_type": "stream",
     "text": [
      "[Parallel(n_jobs=-1)]: Using backend LokyBackend with 8 concurrent workers.\n",
      "[Parallel(n_jobs=-1)]: Done  34 tasks      | elapsed:    1.3s\n",
      "[Parallel(n_jobs=-1)]: Done 264 tasks      | elapsed:    6.8s\n",
      "[Parallel(n_jobs=-1)]: Done 764 tasks      | elapsed:   18.9s\n",
      "[Parallel(n_jobs=-1)]: Done 1464 tasks      | elapsed:   35.6s\n",
      "[Parallel(n_jobs=-1)]: Done 2364 tasks      | elapsed:   57.8s\n",
      "[Parallel(n_jobs=-1)]: Done 3464 tasks      | elapsed:  1.4min\n",
      "[Parallel(n_jobs=-1)]: Done 4764 tasks      | elapsed:  2.0min\n",
      "[Parallel(n_jobs=-1)]: Done 6264 tasks      | elapsed:  2.6min\n",
      "[Parallel(n_jobs=-1)]: Done 7964 tasks      | elapsed:  3.3min\n",
      "[Parallel(n_jobs=-1)]: Done 9864 tasks      | elapsed:  4.1min\n",
      "[Parallel(n_jobs=-1)]: Done 11964 tasks      | elapsed:  5.0min\n",
      "[Parallel(n_jobs=-1)]: Done 14264 tasks      | elapsed:  5.9min\n",
      "[Parallel(n_jobs=-1)]: Done 16764 tasks      | elapsed:  7.0min\n",
      "[Parallel(n_jobs=-1)]: Done 19464 tasks      | elapsed:  8.1min\n",
      "[Parallel(n_jobs=-1)]: Done 22364 tasks      | elapsed:  9.3min\n",
      "[Parallel(n_jobs=-1)]: Done 25464 tasks      | elapsed: 10.7min\n",
      "[Parallel(n_jobs=-1)]: Done 28764 tasks      | elapsed: 12.2min\n",
      "[Parallel(n_jobs=-1)]: Done 32264 tasks      | elapsed: 13.7min\n",
      "[Parallel(n_jobs=-1)]: Done 35964 tasks      | elapsed: 15.2min\n",
      "[Parallel(n_jobs=-1)]: Done 39864 tasks      | elapsed: 16.9min\n",
      "[Parallel(n_jobs=-1)]: Done 43964 tasks      | elapsed: 18.6min\n",
      "[Parallel(n_jobs=-1)]: Done 48264 tasks      | elapsed: 20.4min\n",
      "[Parallel(n_jobs=-1)]: Done 52764 tasks      | elapsed: 22.3min\n",
      "[Parallel(n_jobs=-1)]: Done 57464 tasks      | elapsed: 24.2min\n",
      "[Parallel(n_jobs=-1)]: Done 62098 tasks      | elapsed: 26.3min\n",
      "[Parallel(n_jobs=-1)]: Done 66896 tasks      | elapsed: 28.8min\n",
      "[Parallel(n_jobs=-1)]: Done 72196 tasks      | elapsed: 31.6min\n",
      "[Parallel(n_jobs=-1)]: Done 74985 out of 75000 | elapsed: 32.9min remaining:    0.3s\n",
      "[Parallel(n_jobs=-1)]: Done 75000 out of 75000 | elapsed: 32.9min finished\n"
     ]
    },
    {
     "data": {
      "text/plain": [
       "GridSearchCV(cv=5, estimator=XGBClassifier(), n_jobs=-1,\n",
       "             param_grid={'gamma': array([6, 5, 2, 7, 3, 5, 8, 4, 2, 9]),\n",
       "                         'learning_rate': array([0.001     , 0.00163789, 0.0026827 , 0.00439397, 0.00719686,\n",
       "       0.01178769, 0.01930698, 0.03162278, 0.05179475, 0.08483429,\n",
       "       0.13894955, 0.22758459, 0.37275937, 0.61054023, 1.        ]),\n",
       "                         'max_depth': array([7, 4, 9, 3, 8, 8, 7, 3, 6, 6]),\n",
       "                         'n_estimators': array([194, 137, 161, 190, 143, 116, 190, 125, 160, 170])},\n",
       "             verbose=1)"
      ]
     },
     "execution_count": 194,
     "metadata": {},
     "output_type": "execute_result"
    }
   ],
   "source": [
    "modelXRSh3.fit(X3_train_scaled, y_train)\n",
    "modelXGSh3.fit(X3_train_scaled, y_train)"
   ]
  },
  {
   "cell_type": "code",
   "execution_count": 195,
   "metadata": {},
   "outputs": [
    {
     "data": {
      "text/plain": [
       "{'n_estimators': 194,\n",
       " 'max_depth': 7,\n",
       " 'learning_rate': 0.08483428982440717,\n",
       " 'gamma': 9}"
      ]
     },
     "execution_count": 195,
     "metadata": {},
     "output_type": "execute_result"
    }
   ],
   "source": [
    "modelXRSh3.best_params_\n",
    "# LogisticRegression('solver': 'saga', 'penalty': 'l2')"
   ]
  },
  {
   "cell_type": "code",
   "execution_count": 196,
   "metadata": {},
   "outputs": [
    {
     "data": {
      "text/plain": [
       "{'gamma': 6,\n",
       " 'learning_rate': 0.0026826957952797246,\n",
       " 'max_depth': 7,\n",
       " 'n_estimators': 194}"
      ]
     },
     "execution_count": 196,
     "metadata": {},
     "output_type": "execute_result"
    }
   ],
   "source": [
    "modelXGSh3.best_params_"
   ]
  },
  {
   "cell_type": "code",
   "execution_count": 197,
   "metadata": {},
   "outputs": [],
   "source": [
    "y_pred_RS_Xh3 = modelXRSh3.predict(X3_test_scaled)\n",
    "y_pred_GS_Xh3 = modelXGSh3.predict(X3_test_scaled)\n",
    "# y_rf = modelRF.predict(X_test)"
   ]
  },
  {
   "cell_type": "code",
   "execution_count": 198,
   "metadata": {},
   "outputs": [
    {
     "name": "stdout",
     "output_type": "stream",
     "text": [
      "              precision    recall  f1-score   support\n",
      "\n",
      "           0       0.00      0.00      0.00        47\n",
      "           1       0.53      1.00      0.69        53\n",
      "\n",
      "    accuracy                           0.53       100\n",
      "   macro avg       0.27      0.50      0.35       100\n",
      "weighted avg       0.28      0.53      0.37       100\n",
      "\n"
     ]
    }
   ],
   "source": [
    "print(classification_report(y_test, y_pred_RS_Xh3))"
   ]
  },
  {
   "cell_type": "code",
   "execution_count": 199,
   "metadata": {},
   "outputs": [
    {
     "name": "stdout",
     "output_type": "stream",
     "text": [
      "              precision    recall  f1-score   support\n",
      "\n",
      "           0       0.00      0.00      0.00        47\n",
      "           1       0.53      1.00      0.69        53\n",
      "\n",
      "    accuracy                           0.53       100\n",
      "   macro avg       0.27      0.50      0.35       100\n",
      "weighted avg       0.28      0.53      0.37       100\n",
      "\n"
     ]
    }
   ],
   "source": [
    "print(classification_report(y_test, y_pred_GS_Xh3))"
   ]
  },
  {
   "cell_type": "markdown",
   "metadata": {},
   "source": [
    "# Try to Change Model"
   ]
  },
  {
   "cell_type": "code",
   "execution_count": 202,
   "metadata": {},
   "outputs": [],
   "source": [
    "modelDT = DecisionTreeClassifier()\n",
    "modelRF = RandomForestClassifier()"
   ]
  },
  {
   "cell_type": "code",
   "execution_count": 209,
   "metadata": {},
   "outputs": [
    {
     "data": {
      "text/plain": [
       "RandomForestClassifier()"
      ]
     },
     "execution_count": 209,
     "metadata": {},
     "output_type": "execute_result"
    }
   ],
   "source": [
    "modelRF.fit(X3_train_scaled, y_train)"
   ]
  },
  {
   "cell_type": "code",
   "execution_count": 210,
   "metadata": {},
   "outputs": [
    {
     "data": {
      "text/plain": [
       "DecisionTreeClassifier()"
      ]
     },
     "execution_count": 210,
     "metadata": {},
     "output_type": "execute_result"
    }
   ],
   "source": [
    "modelDT.fit(X3_train_scaled, y_train)"
   ]
  },
  {
   "cell_type": "code",
   "execution_count": 211,
   "metadata": {},
   "outputs": [],
   "source": [
    "y_rf = modelRF.predict(X3_test_scaled)"
   ]
  },
  {
   "cell_type": "code",
   "execution_count": 212,
   "metadata": {},
   "outputs": [],
   "source": [
    "y_dt = modelDT.predict(X3_test_scaled)"
   ]
  },
  {
   "cell_type": "code",
   "execution_count": 213,
   "metadata": {},
   "outputs": [
    {
     "name": "stdout",
     "output_type": "stream",
     "text": [
      "              precision    recall  f1-score   support\n",
      "\n",
      "           0       0.47      0.47      0.47        47\n",
      "           1       0.53      0.53      0.53        53\n",
      "\n",
      "    accuracy                           0.50       100\n",
      "   macro avg       0.50      0.50      0.50       100\n",
      "weighted avg       0.50      0.50      0.50       100\n",
      "\n"
     ]
    }
   ],
   "source": [
    "print(classification_report(y_test, y_rf))"
   ]
  },
  {
   "cell_type": "code",
   "execution_count": 214,
   "metadata": {},
   "outputs": [
    {
     "name": "stdout",
     "output_type": "stream",
     "text": [
      "              precision    recall  f1-score   support\n",
      "\n",
      "           0       0.50      0.49      0.49        47\n",
      "           1       0.56      0.57      0.56        53\n",
      "\n",
      "    accuracy                           0.53       100\n",
      "   macro avg       0.53      0.53      0.53       100\n",
      "weighted avg       0.53      0.53      0.53       100\n",
      "\n"
     ]
    }
   ],
   "source": [
    "print(classification_report(y_test, y_dt))"
   ]
  },
  {
   "cell_type": "markdown",
   "metadata": {},
   "source": [
    "# Model Selection & Comparison"
   ]
  },
  {
   "cell_type": "markdown",
   "metadata": {},
   "source": [
    "### Comparison of Classification Report Top 4 Models with Recall 1 and High Accuracy"
   ]
  },
  {
   "cell_type": "code",
   "execution_count": 228,
   "metadata": {},
   "outputs": [
    {
     "name": "stdout",
     "output_type": "stream",
     "text": [
      "              precision    recall  f1-score   support\n",
      "\n",
      "           0       0.66      0.49      0.56        47\n",
      "           1       0.63      0.77      0.69        53\n",
      "\n",
      "    accuracy                           0.64       100\n",
      "   macro avg       0.64      0.63      0.63       100\n",
      "weighted avg       0.64      0.64      0.63       100\n",
      "\n",
      "              precision    recall  f1-score   support\n",
      "\n",
      "           0       0.60      0.62      0.61        47\n",
      "           1       0.65      0.64      0.65        53\n",
      "\n",
      "    accuracy                           0.63       100\n",
      "   macro avg       0.63      0.63      0.63       100\n",
      "weighted avg       0.63      0.63      0.63       100\n",
      "\n",
      "              precision    recall  f1-score   support\n",
      "\n",
      "           0       0.58      0.38      0.46        47\n",
      "           1       0.58      0.75      0.66        53\n",
      "\n",
      "    accuracy                           0.58       100\n",
      "   macro avg       0.58      0.57      0.56       100\n",
      "weighted avg       0.58      0.58      0.56       100\n",
      "\n",
      "              precision    recall  f1-score   support\n",
      "\n",
      "           0       0.56      0.21      0.31        47\n",
      "           1       0.55      0.85      0.67        53\n",
      "\n",
      "    accuracy                           0.55       100\n",
      "   macro avg       0.55      0.53      0.49       100\n",
      "weighted avg       0.55      0.55      0.50       100\n",
      "\n"
     ]
    }
   ],
   "source": [
    "print(classification_report(y_test, y_predk_s1)) #KNN Base with scaled, n_neighbors=95\n",
    "print(classification_report(y_test, y_predk_s2)) #KNN Base with scaled, n_neighbors=21\n",
    "print(classification_report(y3_test, y_predk_s3)) #KNN dft3 with scaled, n_neighbors=49\n",
    "print(classification_report(y_test, y_pred_KGSh3)) #KNN Base with hyperparam GridsearchCV {'n_neighbors': 193, 'p': 8, 'weights': 'uniform'}"
   ]
  },
  {
   "cell_type": "markdown",
   "metadata": {},
   "source": [
    "#### The selected model is KNN__*Base with Scaled n_neighbors = 95*__"
   ]
  },
  {
   "cell_type": "markdown",
   "metadata": {},
   "source": [
    "# Export & Try Model"
   ]
  },
  {
   "cell_type": "code",
   "execution_count": 224,
   "metadata": {},
   "outputs": [],
   "source": [
    "modelbest = KNeighborsClassifier(n_neighbors=95)"
   ]
  },
  {
   "cell_type": "code",
   "execution_count": 225,
   "metadata": {},
   "outputs": [
    {
     "data": {
      "text/plain": [
       "KNeighborsClassifier(n_neighbors=95)"
      ]
     },
     "execution_count": 225,
     "metadata": {},
     "output_type": "execute_result"
    }
   ],
   "source": [
    "modelbest.fit(X_train_scaled, y_train)"
   ]
  },
  {
   "cell_type": "code",
   "execution_count": 226,
   "metadata": {},
   "outputs": [
    {
     "name": "stdout",
     "output_type": "stream",
     "text": [
      "              precision    recall  f1-score   support\n",
      "\n",
      "           0       0.66      0.49      0.56        47\n",
      "           1       0.63      0.77      0.69        53\n",
      "\n",
      "    accuracy                           0.64       100\n",
      "   macro avg       0.64      0.63      0.63       100\n",
      "weighted avg       0.64      0.64      0.63       100\n",
      "\n"
     ]
    }
   ],
   "source": [
    "y_pred = modelbest.predict(X_test_scaled)\n",
    "print(classification_report(y_test, y_pred))"
   ]
  },
  {
   "cell_type": "code",
   "execution_count": 227,
   "metadata": {},
   "outputs": [
    {
     "data": {
      "text/plain": [
       "['knns95']"
      ]
     },
     "execution_count": 227,
     "metadata": {},
     "output_type": "execute_result"
    }
   ],
   "source": [
    "joblib.dump(modelknn_s,'knns95')"
   ]
  },
  {
   "cell_type": "code",
   "execution_count": 228,
   "metadata": {},
   "outputs": [],
   "source": [
    "bestmodel = joblib.load('knns95')"
   ]
  },
  {
   "cell_type": "code",
   "execution_count": 231,
   "metadata": {},
   "outputs": [
    {
     "data": {
      "text/plain": [
       "array([ 1.08640024, -1.4364657 , -0.08515994,  0.94169658,  0.85096294,\n",
       "       -0.3998006 , -0.85698896,  1.42884613,  0.88640526, -1.4665096 ,\n",
       "       -1.22474487, -0.9947558 ])"
      ]
     },
     "execution_count": 231,
     "metadata": {},
     "output_type": "execute_result"
    }
   ],
   "source": [
    "X_test_scaled[1]"
   ]
  },
  {
   "cell_type": "code",
   "execution_count": 246,
   "metadata": {},
   "outputs": [
    {
     "data": {
      "text/html": [
       "<div>\n",
       "<style scoped>\n",
       "    .dataframe tbody tr th:only-of-type {\n",
       "        vertical-align: middle;\n",
       "    }\n",
       "\n",
       "    .dataframe tbody tr th {\n",
       "        vertical-align: top;\n",
       "    }\n",
       "\n",
       "    .dataframe thead th {\n",
       "        text-align: right;\n",
       "    }\n",
       "</style>\n",
       "<table border=\"1\" class=\"dataframe\">\n",
       "  <thead>\n",
       "    <tr style=\"text-align: right;\">\n",
       "      <th></th>\n",
       "      <th>0</th>\n",
       "      <th>1</th>\n",
       "      <th>2</th>\n",
       "      <th>3</th>\n",
       "      <th>4</th>\n",
       "      <th>5</th>\n",
       "      <th>6</th>\n",
       "      <th>7</th>\n",
       "      <th>8</th>\n",
       "      <th>9</th>\n",
       "      <th>10</th>\n",
       "      <th>11</th>\n",
       "    </tr>\n",
       "  </thead>\n",
       "  <tbody>\n",
       "    <tr>\n",
       "      <th>0</th>\n",
       "      <td>-1.51891</td>\n",
       "      <td>1.02911</td>\n",
       "      <td>0.624506</td>\n",
       "      <td>0.941697</td>\n",
       "      <td>-1.175139</td>\n",
       "      <td>-1.351707</td>\n",
       "      <td>0.514193</td>\n",
       "      <td>0.728431</td>\n",
       "      <td>0.886405</td>\n",
       "      <td>-0.473388</td>\n",
       "      <td>0.816497</td>\n",
       "      <td>0.461488</td>\n",
       "    </tr>\n",
       "  </tbody>\n",
       "</table>\n",
       "</div>"
      ],
      "text/plain": [
       "         0        1         2         3         4         5         6  \\\n",
       "0 -1.51891  1.02911  0.624506  0.941697 -1.175139 -1.351707  0.514193   \n",
       "\n",
       "          7         8         9        10        11  \n",
       "0  0.728431  0.886405 -0.473388  0.816497  0.461488  "
      ]
     },
     "execution_count": 246,
     "metadata": {},
     "output_type": "execute_result"
    }
   ],
   "source": [
    "sample = pd.DataFrame([X_test_scaled[10]])\n",
    "sample"
   ]
  },
  {
   "cell_type": "code",
   "execution_count": 269,
   "metadata": {},
   "outputs": [],
   "source": [
    "predict_ = bestmodel.predict([X_test_scaled[10]])"
   ]
  },
  {
   "cell_type": "code",
   "execution_count": 273,
   "metadata": {},
   "outputs": [
    {
     "data": {
      "text/plain": [
       "array([1], dtype=int64)"
      ]
     },
     "execution_count": 273,
     "metadata": {},
     "output_type": "execute_result"
    }
   ],
   "source": [
    "predict_"
   ]
  },
  {
   "cell_type": "code",
   "execution_count": 271,
   "metadata": {},
   "outputs": [
    {
     "name": "stdout",
     "output_type": "stream",
     "text": [
      "1\n"
     ]
    }
   ],
   "source": [
    "hasil_predict = print(predict_[0])\n",
    "hasil_predict"
   ]
  },
  {
   "cell_type": "code",
   "execution_count": 272,
   "metadata": {},
   "outputs": [
    {
     "data": {
      "text/plain": [
       "1"
      ]
     },
     "execution_count": 272,
     "metadata": {},
     "output_type": "execute_result"
    }
   ],
   "source": [
    "y_test.iloc[5]"
   ]
  },
  {
   "cell_type": "markdown",
   "metadata": {},
   "source": [
    "# Conclusion\n",
    "- This model can be used to classify / determine the employee job satisfaction index with an accuracy score of 63%\n",
    "- The variables that determine the determination of the job satisfaction index are salary, job_ level, certification, rank, and education"
   ]
  },
  {
   "cell_type": "markdown",
   "metadata": {},
   "source": [
    "# Suggestion\n",
    "- We recommend adding data to optimize roc_auc_score, accuracy_score for this model. "
   ]
  },
  {
   "cell_type": "markdown",
   "metadata": {},
   "source": [
    "# Referensi"
   ]
  },
  {
   "cell_type": "markdown",
   "metadata": {},
   "source": [
    "1. https://www.pikiran-rakyat.com/jawa-barat/pr-01660768/gelombang-phk-masih-terus-terjadi-di-tengah-pandemi-virus-corona\n",
    "2. https://nasional.kompas.com/read/2020/08/10/15004201/update-bertambah-1687-total-ada-127083-kasus-covid-19-di-indonesia?page=all\n",
    "3. https://www.lexology.com/library/detail.aspx?g=5f3119f9-84ea-4cc6-a769-dc76e9c65630\n",
    "4. Maier. 2000. Manajemen Personalia & Faktor-faktor yang Mempengaruhi Pemutusan Hubungan Kerja. BPFE, Yogyakarta\n",
    "5. https://blog.recruitee.com/recruitment-methods/\n",
    "6. https://www.talentlyft.com/en/resources/what-is-employee-referral#:~:text=Employee%20referral%20is%20an%20internal,candidates%20from%20their%20existing%20networks.\n",
    "7. https://www.quora.com/What-is-a-walk-in-interview"
   ]
  },
  {
   "cell_type": "markdown",
   "metadata": {},
   "source": [
    "------------------------------------------------------------------------------------------------------------------------------------------------------"
   ]
  }
 ],
 "metadata": {
  "kernelspec": {
   "display_name": "Python 3",
   "language": "python",
   "name": "python3"
  },
  "language_info": {
   "codemirror_mode": {
    "name": "ipython",
    "version": 3
   },
   "file_extension": ".py",
   "mimetype": "text/x-python",
   "name": "python",
   "nbconvert_exporter": "python",
   "pygments_lexer": "ipython3",
   "version": "3.7.7"
  }
 },
 "nbformat": 4,
 "nbformat_minor": 4
}
